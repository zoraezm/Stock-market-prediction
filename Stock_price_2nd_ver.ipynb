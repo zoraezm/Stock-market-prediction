{
  "cells": [
    {
      "cell_type": "code",
      "execution_count": null,
      "id": "823ec588",
      "metadata": {
        "id": "823ec588"
      },
      "outputs": [],
      "source": [
        "import numpy as np\n",
        "import matplotlib.pyplot as plt\n",
        "import pandas as pd\n",
        "from datetime import datetime\n",
        "import math, time\n",
        "import itertools\n",
        "from sklearn import preprocessing\n",
        "import datetime\n",
        "from operator import itemgetter\n",
        "from sklearn.metrics import mean_squared_error\n",
        "from math import sqrt\n",
        "from keras.models import Sequential\n",
        "from keras.layers.core import Dense, Dropout, Activation\n",
        "from keras.layers.recurrent import LSTM\n",
        "plt.style.use('fivethirtyeight')\n"
      ]
    },
    {
      "cell_type": "code",
      "execution_count": null,
      "id": "da7434ac",
      "metadata": {
        "scrolled": true,
        "colab": {
          "base_uri": "https://localhost:8080/",
          "height": 237
        },
        "id": "da7434ac",
        "outputId": "3f7b7b82-68e0-4415-fdfe-4daf54a277d0"
      },
      "outputs": [
        {
          "output_type": "execute_result",
          "data": {
            "text/html": [
              "\n",
              "  <div id=\"df-d54125a8-774d-43c8-aca6-8c67a4eb81de\">\n",
              "    <div class=\"colab-df-container\">\n",
              "      <div>\n",
              "<style scoped>\n",
              "    .dataframe tbody tr th:only-of-type {\n",
              "        vertical-align: middle;\n",
              "    }\n",
              "\n",
              "    .dataframe tbody tr th {\n",
              "        vertical-align: top;\n",
              "    }\n",
              "\n",
              "    .dataframe thead th {\n",
              "        text-align: right;\n",
              "    }\n",
              "</style>\n",
              "<table border=\"1\" class=\"dataframe\">\n",
              "  <thead>\n",
              "    <tr style=\"text-align: right;\">\n",
              "      <th></th>\n",
              "      <th>Open</th>\n",
              "      <th>High</th>\n",
              "      <th>Low</th>\n",
              "      <th>Close</th>\n",
              "      <th>Change</th>\n",
              "      <th>Volume</th>\n",
              "    </tr>\n",
              "    <tr>\n",
              "      <th>Date</th>\n",
              "      <th></th>\n",
              "      <th></th>\n",
              "      <th></th>\n",
              "      <th></th>\n",
              "      <th></th>\n",
              "      <th></th>\n",
              "    </tr>\n",
              "  </thead>\n",
              "  <tbody>\n",
              "    <tr>\n",
              "      <th>2021-02-23</th>\n",
              "      <td>31,722.16</td>\n",
              "      <td>31,800.90</td>\n",
              "      <td>31,597.31</td>\n",
              "      <td>31,626.19</td>\n",
              "      <td>-21.38</td>\n",
              "      <td>718,191,025</td>\n",
              "    </tr>\n",
              "    <tr>\n",
              "      <th>2021-02-22</th>\n",
              "      <td>31,874.78</td>\n",
              "      <td>31,958.58</td>\n",
              "      <td>31,612.55</td>\n",
              "      <td>31,647.57</td>\n",
              "      <td>-203.61</td>\n",
              "      <td>721,952,658</td>\n",
              "    </tr>\n",
              "    <tr>\n",
              "      <th>2021-02-19</th>\n",
              "      <td>31,748.75</td>\n",
              "      <td>31,904.30</td>\n",
              "      <td>31,749.43</td>\n",
              "      <td>31,851.18</td>\n",
              "      <td>91.36</td>\n",
              "      <td>694,795,084</td>\n",
              "    </tr>\n",
              "    <tr>\n",
              "      <th>2021-02-18</th>\n",
              "      <td>32,049.85</td>\n",
              "      <td>32,104.67</td>\n",
              "      <td>31,745.72</td>\n",
              "      <td>31,759.82</td>\n",
              "      <td>-288.86</td>\n",
              "      <td>577,837,595</td>\n",
              "    </tr>\n",
              "    <tr>\n",
              "      <th>2021-02-17</th>\n",
              "      <td>32,166.21</td>\n",
              "      <td>32,390.77</td>\n",
              "      <td>32,044.01</td>\n",
              "      <td>32,048.68</td>\n",
              "      <td>-93.15</td>\n",
              "      <td>701,658,181</td>\n",
              "    </tr>\n",
              "  </tbody>\n",
              "</table>\n",
              "</div>\n",
              "      <button class=\"colab-df-convert\" onclick=\"convertToInteractive('df-d54125a8-774d-43c8-aca6-8c67a4eb81de')\"\n",
              "              title=\"Convert this dataframe to an interactive table.\"\n",
              "              style=\"display:none;\">\n",
              "        \n",
              "  <svg xmlns=\"http://www.w3.org/2000/svg\" height=\"24px\"viewBox=\"0 0 24 24\"\n",
              "       width=\"24px\">\n",
              "    <path d=\"M0 0h24v24H0V0z\" fill=\"none\"/>\n",
              "    <path d=\"M18.56 5.44l.94 2.06.94-2.06 2.06-.94-2.06-.94-.94-2.06-.94 2.06-2.06.94zm-11 1L8.5 8.5l.94-2.06 2.06-.94-2.06-.94L8.5 2.5l-.94 2.06-2.06.94zm10 10l.94 2.06.94-2.06 2.06-.94-2.06-.94-.94-2.06-.94 2.06-2.06.94z\"/><path d=\"M17.41 7.96l-1.37-1.37c-.4-.4-.92-.59-1.43-.59-.52 0-1.04.2-1.43.59L10.3 9.45l-7.72 7.72c-.78.78-.78 2.05 0 2.83L4 21.41c.39.39.9.59 1.41.59.51 0 1.02-.2 1.41-.59l7.78-7.78 2.81-2.81c.8-.78.8-2.07 0-2.86zM5.41 20L4 18.59l7.72-7.72 1.47 1.35L5.41 20z\"/>\n",
              "  </svg>\n",
              "      </button>\n",
              "      \n",
              "  <style>\n",
              "    .colab-df-container {\n",
              "      display:flex;\n",
              "      flex-wrap:wrap;\n",
              "      gap: 12px;\n",
              "    }\n",
              "\n",
              "    .colab-df-convert {\n",
              "      background-color: #E8F0FE;\n",
              "      border: none;\n",
              "      border-radius: 50%;\n",
              "      cursor: pointer;\n",
              "      display: none;\n",
              "      fill: #1967D2;\n",
              "      height: 32px;\n",
              "      padding: 0 0 0 0;\n",
              "      width: 32px;\n",
              "    }\n",
              "\n",
              "    .colab-df-convert:hover {\n",
              "      background-color: #E2EBFA;\n",
              "      box-shadow: 0px 1px 2px rgba(60, 64, 67, 0.3), 0px 1px 3px 1px rgba(60, 64, 67, 0.15);\n",
              "      fill: #174EA6;\n",
              "    }\n",
              "\n",
              "    [theme=dark] .colab-df-convert {\n",
              "      background-color: #3B4455;\n",
              "      fill: #D2E3FC;\n",
              "    }\n",
              "\n",
              "    [theme=dark] .colab-df-convert:hover {\n",
              "      background-color: #434B5C;\n",
              "      box-shadow: 0px 1px 3px 1px rgba(0, 0, 0, 0.15);\n",
              "      filter: drop-shadow(0px 1px 2px rgba(0, 0, 0, 0.3));\n",
              "      fill: #FFFFFF;\n",
              "    }\n",
              "  </style>\n",
              "\n",
              "      <script>\n",
              "        const buttonEl =\n",
              "          document.querySelector('#df-d54125a8-774d-43c8-aca6-8c67a4eb81de button.colab-df-convert');\n",
              "        buttonEl.style.display =\n",
              "          google.colab.kernel.accessAllowed ? 'block' : 'none';\n",
              "\n",
              "        async function convertToInteractive(key) {\n",
              "          const element = document.querySelector('#df-d54125a8-774d-43c8-aca6-8c67a4eb81de');\n",
              "          const dataTable =\n",
              "            await google.colab.kernel.invokeFunction('convertToInteractive',\n",
              "                                                     [key], {});\n",
              "          if (!dataTable) return;\n",
              "\n",
              "          const docLinkHtml = 'Like what you see? Visit the ' +\n",
              "            '<a target=\"_blank\" href=https://colab.research.google.com/notebooks/data_table.ipynb>data table notebook</a>'\n",
              "            + ' to learn more about interactive tables.';\n",
              "          element.innerHTML = '';\n",
              "          dataTable['output_type'] = 'display_data';\n",
              "          await google.colab.output.renderOutput(dataTable, element);\n",
              "          const docLink = document.createElement('div');\n",
              "          docLink.innerHTML = docLinkHtml;\n",
              "          element.appendChild(docLink);\n",
              "        }\n",
              "      </script>\n",
              "    </div>\n",
              "  </div>\n",
              "  "
            ],
            "text/plain": [
              "                 Open       High        Low      Close   Change       Volume\n",
              "Date                                                                        \n",
              "2021-02-23  31,722.16  31,800.90  31,597.31  31,626.19   -21.38  718,191,025\n",
              "2021-02-22  31,874.78  31,958.58  31,612.55  31,647.57  -203.61  721,952,658\n",
              "2021-02-19  31,748.75  31,904.30  31,749.43  31,851.18    91.36  694,795,084\n",
              "2021-02-18  32,049.85  32,104.67  31,745.72  31,759.82  -288.86  577,837,595\n",
              "2021-02-17  32,166.21  32,390.77  32,044.01  32,048.68   -93.15  701,658,181"
            ]
          },
          "metadata": {},
          "execution_count": 911
        }
      ],
      "source": [
        "data = pd.read_csv('/content/stock-exchange-kse-100pakistan.csv', index_col='Date', parse_dates=['Date'])\n",
        "#data[['Date']] = data[['Date']].astype('datetime64[ns]')\n",
        "data.head()"
      ]
    },
    {
      "cell_type": "code",
      "execution_count": null,
      "id": "6040a131",
      "metadata": {
        "colab": {
          "base_uri": "https://localhost:8080/",
          "height": 175
        },
        "id": "6040a131",
        "outputId": "249ff203-dddb-4287-fa5a-a7b0d4a13b76"
      },
      "outputs": [
        {
          "output_type": "execute_result",
          "data": {
            "text/html": [
              "\n",
              "  <div id=\"df-7551ce43-0ac1-4657-baea-ac87d630addd\">\n",
              "    <div class=\"colab-df-container\">\n",
              "      <div>\n",
              "<style scoped>\n",
              "    .dataframe tbody tr th:only-of-type {\n",
              "        vertical-align: middle;\n",
              "    }\n",
              "\n",
              "    .dataframe tbody tr th {\n",
              "        vertical-align: top;\n",
              "    }\n",
              "\n",
              "    .dataframe thead th {\n",
              "        text-align: right;\n",
              "    }\n",
              "</style>\n",
              "<table border=\"1\" class=\"dataframe\">\n",
              "  <thead>\n",
              "    <tr style=\"text-align: right;\">\n",
              "      <th></th>\n",
              "      <th>Open</th>\n",
              "      <th>High</th>\n",
              "      <th>Low</th>\n",
              "      <th>Close</th>\n",
              "      <th>Change</th>\n",
              "      <th>Volume</th>\n",
              "    </tr>\n",
              "  </thead>\n",
              "  <tbody>\n",
              "    <tr>\n",
              "      <th>count</th>\n",
              "      <td>3221</td>\n",
              "      <td>3221</td>\n",
              "      <td>3221</td>\n",
              "      <td>3221</td>\n",
              "      <td>3221</td>\n",
              "      <td>3221</td>\n",
              "    </tr>\n",
              "    <tr>\n",
              "      <th>unique</th>\n",
              "      <td>3213</td>\n",
              "      <td>3215</td>\n",
              "      <td>3211</td>\n",
              "      <td>3209</td>\n",
              "      <td>3104</td>\n",
              "      <td>3220</td>\n",
              "    </tr>\n",
              "    <tr>\n",
              "      <th>top</th>\n",
              "      <td>29,269.00</td>\n",
              "      <td>6,641.69</td>\n",
              "      <td>6,639.00</td>\n",
              "      <td>6,639.25</td>\n",
              "      <td>0</td>\n",
              "      <td>302,831,072</td>\n",
              "    </tr>\n",
              "    <tr>\n",
              "      <th>freq</th>\n",
              "      <td>2</td>\n",
              "      <td>2</td>\n",
              "      <td>3</td>\n",
              "      <td>3</td>\n",
              "      <td>5</td>\n",
              "      <td>2</td>\n",
              "    </tr>\n",
              "  </tbody>\n",
              "</table>\n",
              "</div>\n",
              "      <button class=\"colab-df-convert\" onclick=\"convertToInteractive('df-7551ce43-0ac1-4657-baea-ac87d630addd')\"\n",
              "              title=\"Convert this dataframe to an interactive table.\"\n",
              "              style=\"display:none;\">\n",
              "        \n",
              "  <svg xmlns=\"http://www.w3.org/2000/svg\" height=\"24px\"viewBox=\"0 0 24 24\"\n",
              "       width=\"24px\">\n",
              "    <path d=\"M0 0h24v24H0V0z\" fill=\"none\"/>\n",
              "    <path d=\"M18.56 5.44l.94 2.06.94-2.06 2.06-.94-2.06-.94-.94-2.06-.94 2.06-2.06.94zm-11 1L8.5 8.5l.94-2.06 2.06-.94-2.06-.94L8.5 2.5l-.94 2.06-2.06.94zm10 10l.94 2.06.94-2.06 2.06-.94-2.06-.94-.94-2.06-.94 2.06-2.06.94z\"/><path d=\"M17.41 7.96l-1.37-1.37c-.4-.4-.92-.59-1.43-.59-.52 0-1.04.2-1.43.59L10.3 9.45l-7.72 7.72c-.78.78-.78 2.05 0 2.83L4 21.41c.39.39.9.59 1.41.59.51 0 1.02-.2 1.41-.59l7.78-7.78 2.81-2.81c.8-.78.8-2.07 0-2.86zM5.41 20L4 18.59l7.72-7.72 1.47 1.35L5.41 20z\"/>\n",
              "  </svg>\n",
              "      </button>\n",
              "      \n",
              "  <style>\n",
              "    .colab-df-container {\n",
              "      display:flex;\n",
              "      flex-wrap:wrap;\n",
              "      gap: 12px;\n",
              "    }\n",
              "\n",
              "    .colab-df-convert {\n",
              "      background-color: #E8F0FE;\n",
              "      border: none;\n",
              "      border-radius: 50%;\n",
              "      cursor: pointer;\n",
              "      display: none;\n",
              "      fill: #1967D2;\n",
              "      height: 32px;\n",
              "      padding: 0 0 0 0;\n",
              "      width: 32px;\n",
              "    }\n",
              "\n",
              "    .colab-df-convert:hover {\n",
              "      background-color: #E2EBFA;\n",
              "      box-shadow: 0px 1px 2px rgba(60, 64, 67, 0.3), 0px 1px 3px 1px rgba(60, 64, 67, 0.15);\n",
              "      fill: #174EA6;\n",
              "    }\n",
              "\n",
              "    [theme=dark] .colab-df-convert {\n",
              "      background-color: #3B4455;\n",
              "      fill: #D2E3FC;\n",
              "    }\n",
              "\n",
              "    [theme=dark] .colab-df-convert:hover {\n",
              "      background-color: #434B5C;\n",
              "      box-shadow: 0px 1px 3px 1px rgba(0, 0, 0, 0.15);\n",
              "      filter: drop-shadow(0px 1px 2px rgba(0, 0, 0, 0.3));\n",
              "      fill: #FFFFFF;\n",
              "    }\n",
              "  </style>\n",
              "\n",
              "      <script>\n",
              "        const buttonEl =\n",
              "          document.querySelector('#df-7551ce43-0ac1-4657-baea-ac87d630addd button.colab-df-convert');\n",
              "        buttonEl.style.display =\n",
              "          google.colab.kernel.accessAllowed ? 'block' : 'none';\n",
              "\n",
              "        async function convertToInteractive(key) {\n",
              "          const element = document.querySelector('#df-7551ce43-0ac1-4657-baea-ac87d630addd');\n",
              "          const dataTable =\n",
              "            await google.colab.kernel.invokeFunction('convertToInteractive',\n",
              "                                                     [key], {});\n",
              "          if (!dataTable) return;\n",
              "\n",
              "          const docLinkHtml = 'Like what you see? Visit the ' +\n",
              "            '<a target=\"_blank\" href=https://colab.research.google.com/notebooks/data_table.ipynb>data table notebook</a>'\n",
              "            + ' to learn more about interactive tables.';\n",
              "          element.innerHTML = '';\n",
              "          dataTable['output_type'] = 'display_data';\n",
              "          await google.colab.output.renderOutput(dataTable, element);\n",
              "          const docLink = document.createElement('div');\n",
              "          docLink.innerHTML = docLinkHtml;\n",
              "          element.appendChild(docLink);\n",
              "        }\n",
              "      </script>\n",
              "    </div>\n",
              "  </div>\n",
              "  "
            ],
            "text/plain": [
              "             Open      High       Low     Close Change       Volume\n",
              "count        3221      3221      3221      3221   3221         3221\n",
              "unique       3213      3215      3211      3209   3104         3220\n",
              "top     29,269.00  6,641.69  6,639.00  6,639.25      0  302,831,072\n",
              "freq            2         2         3         3      5            2"
            ]
          },
          "metadata": {},
          "execution_count": 912
        }
      ],
      "source": [
        "data.describe()"
      ]
    },
    {
      "cell_type": "code",
      "source": [
        "df = data.copy()"
      ],
      "metadata": {
        "id": "uoCFketsrrJC"
      },
      "id": "uoCFketsrrJC",
      "execution_count": null,
      "outputs": []
    },
    {
      "cell_type": "code",
      "execution_count": null,
      "id": "4c5e6193",
      "metadata": {
        "colab": {
          "base_uri": "https://localhost:8080/"
        },
        "id": "4c5e6193",
        "outputId": "bcb91336-5a5a-4ceb-a871-e9fca5dcd149"
      },
      "outputs": [
        {
          "output_type": "execute_result",
          "data": {
            "text/plain": [
              "Open      object\n",
              "High      object\n",
              "Low       object\n",
              "Close     object\n",
              "Change    object\n",
              "Volume    object\n",
              "dtype: object"
            ]
          },
          "metadata": {},
          "execution_count": 914
        }
      ],
      "source": [
        "data.dtypes"
      ]
    },
    {
      "cell_type": "code",
      "execution_count": null,
      "id": "b8148a67",
      "metadata": {
        "id": "b8148a67"
      },
      "outputs": [],
      "source": [
        "df['Close']= [float(str(i).replace(\",\", \"\")) for i in df['Close']]\n",
        "df['Change']= [float(str(i).replace(\",\", \"\")) for i in df['Change']]\n",
        "df['Volume']= [float(str(i).replace(\",\", \"\")) for i in df['Volume']]\n",
        "df['Low']= [float(str(i).replace(\",\", \"\")) for i in df['Low']]\n",
        "df['High']= [float(str(i).replace(\",\", \"\")) for i in df['High']]\n",
        "df['Open']= [float(str(i).replace(\",\", \"\")) for i in df['Open']]"
      ]
    },
    {
      "cell_type": "code",
      "execution_count": null,
      "id": "de812dca",
      "metadata": {
        "colab": {
          "base_uri": "https://localhost:8080/",
          "height": 237
        },
        "id": "de812dca",
        "outputId": "2a09055a-1586-4d65-ad91-e45031d7866f"
      },
      "outputs": [
        {
          "output_type": "execute_result",
          "data": {
            "text/html": [
              "\n",
              "  <div id=\"df-9884fa88-a570-47ef-8d2c-6b9ab2858458\">\n",
              "    <div class=\"colab-df-container\">\n",
              "      <div>\n",
              "<style scoped>\n",
              "    .dataframe tbody tr th:only-of-type {\n",
              "        vertical-align: middle;\n",
              "    }\n",
              "\n",
              "    .dataframe tbody tr th {\n",
              "        vertical-align: top;\n",
              "    }\n",
              "\n",
              "    .dataframe thead th {\n",
              "        text-align: right;\n",
              "    }\n",
              "</style>\n",
              "<table border=\"1\" class=\"dataframe\">\n",
              "  <thead>\n",
              "    <tr style=\"text-align: right;\">\n",
              "      <th></th>\n",
              "      <th>Open</th>\n",
              "      <th>High</th>\n",
              "      <th>Low</th>\n",
              "      <th>Close</th>\n",
              "      <th>Change</th>\n",
              "      <th>Volume</th>\n",
              "    </tr>\n",
              "    <tr>\n",
              "      <th>Date</th>\n",
              "      <th></th>\n",
              "      <th></th>\n",
              "      <th></th>\n",
              "      <th></th>\n",
              "      <th></th>\n",
              "      <th></th>\n",
              "    </tr>\n",
              "  </thead>\n",
              "  <tbody>\n",
              "    <tr>\n",
              "      <th>2021-02-23</th>\n",
              "      <td>31722.16</td>\n",
              "      <td>31800.90</td>\n",
              "      <td>31597.31</td>\n",
              "      <td>31626.19</td>\n",
              "      <td>-21.38</td>\n",
              "      <td>718191025.0</td>\n",
              "    </tr>\n",
              "    <tr>\n",
              "      <th>2021-02-22</th>\n",
              "      <td>31874.78</td>\n",
              "      <td>31958.58</td>\n",
              "      <td>31612.55</td>\n",
              "      <td>31647.57</td>\n",
              "      <td>-203.61</td>\n",
              "      <td>721952658.0</td>\n",
              "    </tr>\n",
              "    <tr>\n",
              "      <th>2021-02-19</th>\n",
              "      <td>31748.75</td>\n",
              "      <td>31904.30</td>\n",
              "      <td>31749.43</td>\n",
              "      <td>31851.18</td>\n",
              "      <td>91.36</td>\n",
              "      <td>694795084.0</td>\n",
              "    </tr>\n",
              "    <tr>\n",
              "      <th>2021-02-18</th>\n",
              "      <td>32049.85</td>\n",
              "      <td>32104.67</td>\n",
              "      <td>31745.72</td>\n",
              "      <td>31759.82</td>\n",
              "      <td>-288.86</td>\n",
              "      <td>577837595.0</td>\n",
              "    </tr>\n",
              "    <tr>\n",
              "      <th>2021-02-17</th>\n",
              "      <td>32166.21</td>\n",
              "      <td>32390.77</td>\n",
              "      <td>32044.01</td>\n",
              "      <td>32048.68</td>\n",
              "      <td>-93.15</td>\n",
              "      <td>701658181.0</td>\n",
              "    </tr>\n",
              "  </tbody>\n",
              "</table>\n",
              "</div>\n",
              "      <button class=\"colab-df-convert\" onclick=\"convertToInteractive('df-9884fa88-a570-47ef-8d2c-6b9ab2858458')\"\n",
              "              title=\"Convert this dataframe to an interactive table.\"\n",
              "              style=\"display:none;\">\n",
              "        \n",
              "  <svg xmlns=\"http://www.w3.org/2000/svg\" height=\"24px\"viewBox=\"0 0 24 24\"\n",
              "       width=\"24px\">\n",
              "    <path d=\"M0 0h24v24H0V0z\" fill=\"none\"/>\n",
              "    <path d=\"M18.56 5.44l.94 2.06.94-2.06 2.06-.94-2.06-.94-.94-2.06-.94 2.06-2.06.94zm-11 1L8.5 8.5l.94-2.06 2.06-.94-2.06-.94L8.5 2.5l-.94 2.06-2.06.94zm10 10l.94 2.06.94-2.06 2.06-.94-2.06-.94-.94-2.06-.94 2.06-2.06.94z\"/><path d=\"M17.41 7.96l-1.37-1.37c-.4-.4-.92-.59-1.43-.59-.52 0-1.04.2-1.43.59L10.3 9.45l-7.72 7.72c-.78.78-.78 2.05 0 2.83L4 21.41c.39.39.9.59 1.41.59.51 0 1.02-.2 1.41-.59l7.78-7.78 2.81-2.81c.8-.78.8-2.07 0-2.86zM5.41 20L4 18.59l7.72-7.72 1.47 1.35L5.41 20z\"/>\n",
              "  </svg>\n",
              "      </button>\n",
              "      \n",
              "  <style>\n",
              "    .colab-df-container {\n",
              "      display:flex;\n",
              "      flex-wrap:wrap;\n",
              "      gap: 12px;\n",
              "    }\n",
              "\n",
              "    .colab-df-convert {\n",
              "      background-color: #E8F0FE;\n",
              "      border: none;\n",
              "      border-radius: 50%;\n",
              "      cursor: pointer;\n",
              "      display: none;\n",
              "      fill: #1967D2;\n",
              "      height: 32px;\n",
              "      padding: 0 0 0 0;\n",
              "      width: 32px;\n",
              "    }\n",
              "\n",
              "    .colab-df-convert:hover {\n",
              "      background-color: #E2EBFA;\n",
              "      box-shadow: 0px 1px 2px rgba(60, 64, 67, 0.3), 0px 1px 3px 1px rgba(60, 64, 67, 0.15);\n",
              "      fill: #174EA6;\n",
              "    }\n",
              "\n",
              "    [theme=dark] .colab-df-convert {\n",
              "      background-color: #3B4455;\n",
              "      fill: #D2E3FC;\n",
              "    }\n",
              "\n",
              "    [theme=dark] .colab-df-convert:hover {\n",
              "      background-color: #434B5C;\n",
              "      box-shadow: 0px 1px 3px 1px rgba(0, 0, 0, 0.15);\n",
              "      filter: drop-shadow(0px 1px 2px rgba(0, 0, 0, 0.3));\n",
              "      fill: #FFFFFF;\n",
              "    }\n",
              "  </style>\n",
              "\n",
              "      <script>\n",
              "        const buttonEl =\n",
              "          document.querySelector('#df-9884fa88-a570-47ef-8d2c-6b9ab2858458 button.colab-df-convert');\n",
              "        buttonEl.style.display =\n",
              "          google.colab.kernel.accessAllowed ? 'block' : 'none';\n",
              "\n",
              "        async function convertToInteractive(key) {\n",
              "          const element = document.querySelector('#df-9884fa88-a570-47ef-8d2c-6b9ab2858458');\n",
              "          const dataTable =\n",
              "            await google.colab.kernel.invokeFunction('convertToInteractive',\n",
              "                                                     [key], {});\n",
              "          if (!dataTable) return;\n",
              "\n",
              "          const docLinkHtml = 'Like what you see? Visit the ' +\n",
              "            '<a target=\"_blank\" href=https://colab.research.google.com/notebooks/data_table.ipynb>data table notebook</a>'\n",
              "            + ' to learn more about interactive tables.';\n",
              "          element.innerHTML = '';\n",
              "          dataTable['output_type'] = 'display_data';\n",
              "          await google.colab.output.renderOutput(dataTable, element);\n",
              "          const docLink = document.createElement('div');\n",
              "          docLink.innerHTML = docLinkHtml;\n",
              "          element.appendChild(docLink);\n",
              "        }\n",
              "      </script>\n",
              "    </div>\n",
              "  </div>\n",
              "  "
            ],
            "text/plain": [
              "                Open      High       Low     Close  Change       Volume\n",
              "Date                                                                   \n",
              "2021-02-23  31722.16  31800.90  31597.31  31626.19  -21.38  718191025.0\n",
              "2021-02-22  31874.78  31958.58  31612.55  31647.57 -203.61  721952658.0\n",
              "2021-02-19  31748.75  31904.30  31749.43  31851.18   91.36  694795084.0\n",
              "2021-02-18  32049.85  32104.67  31745.72  31759.82 -288.86  577837595.0\n",
              "2021-02-17  32166.21  32390.77  32044.01  32048.68  -93.15  701658181.0"
            ]
          },
          "metadata": {},
          "execution_count": 916
        }
      ],
      "source": [
        "df.head()"
      ]
    },
    {
      "cell_type": "code",
      "execution_count": null,
      "id": "4e0138a6",
      "metadata": {
        "colab": {
          "base_uri": "https://localhost:8080/"
        },
        "id": "4e0138a6",
        "outputId": "4283ab66-6b7e-4ba1-c96e-0b46e60da29a"
      },
      "outputs": [
        {
          "output_type": "execute_result",
          "data": {
            "text/plain": [
              "Date\n",
              "2021-02-23    31722.16\n",
              "2021-02-22    31874.78\n",
              "2021-02-19    31748.75\n",
              "2021-02-18    32049.85\n",
              "2021-02-17    32166.21\n",
              "                ...   \n",
              "2008-02-28    10688.98\n",
              "2008-02-27    10670.68\n",
              "2008-02-26    10596.40\n",
              "2008-02-25    10625.66\n",
              "2008-02-22    10634.22\n",
              "Name: Open, Length: 3221, dtype: float64"
            ]
          },
          "metadata": {},
          "execution_count": 917
        }
      ],
      "source": [
        "df['Close'].astype(float)\n",
        "df['Change'].astype(float)\n",
        "df['Volume'].astype(float)\n",
        "df['Low'].astype(float)\n",
        "df['High'].astype(float)\n",
        "df['Open'].astype(float)"
      ]
    },
    {
      "cell_type": "code",
      "source": [
        "data = df.copy()"
      ],
      "metadata": {
        "id": "5JcT2RuSsrnc"
      },
      "id": "5JcT2RuSsrnc",
      "execution_count": null,
      "outputs": []
    },
    {
      "cell_type": "code",
      "source": [
        "data.sort_values(by=['Date'], inplace=True, ascending=True)\n",
        "data.head()"
      ],
      "metadata": {
        "colab": {
          "base_uri": "https://localhost:8080/",
          "height": 237
        },
        "id": "6_YzhLLOp5Ei",
        "outputId": "f391320f-0441-4526-edc0-dd5075fd2c7a"
      },
      "id": "6_YzhLLOp5Ei",
      "execution_count": null,
      "outputs": [
        {
          "output_type": "execute_result",
          "data": {
            "text/html": [
              "\n",
              "  <div id=\"df-7ea8465f-dad0-4728-83e9-ad9137771372\">\n",
              "    <div class=\"colab-df-container\">\n",
              "      <div>\n",
              "<style scoped>\n",
              "    .dataframe tbody tr th:only-of-type {\n",
              "        vertical-align: middle;\n",
              "    }\n",
              "\n",
              "    .dataframe tbody tr th {\n",
              "        vertical-align: top;\n",
              "    }\n",
              "\n",
              "    .dataframe thead th {\n",
              "        text-align: right;\n",
              "    }\n",
              "</style>\n",
              "<table border=\"1\" class=\"dataframe\">\n",
              "  <thead>\n",
              "    <tr style=\"text-align: right;\">\n",
              "      <th></th>\n",
              "      <th>Open</th>\n",
              "      <th>High</th>\n",
              "      <th>Low</th>\n",
              "      <th>Close</th>\n",
              "      <th>Change</th>\n",
              "      <th>Volume</th>\n",
              "    </tr>\n",
              "    <tr>\n",
              "      <th>Date</th>\n",
              "      <th></th>\n",
              "      <th></th>\n",
              "      <th></th>\n",
              "      <th></th>\n",
              "      <th></th>\n",
              "      <th></th>\n",
              "    </tr>\n",
              "  </thead>\n",
              "  <tbody>\n",
              "    <tr>\n",
              "      <th>2008-02-22</th>\n",
              "      <td>10634.22</td>\n",
              "      <td>10635.42</td>\n",
              "      <td>10546.38</td>\n",
              "      <td>10607.29</td>\n",
              "      <td>0.00</td>\n",
              "      <td>313082688.0</td>\n",
              "    </tr>\n",
              "    <tr>\n",
              "      <th>2008-02-25</th>\n",
              "      <td>10625.66</td>\n",
              "      <td>10709.06</td>\n",
              "      <td>10579.49</td>\n",
              "      <td>10588.84</td>\n",
              "      <td>-18.45</td>\n",
              "      <td>273149184.0</td>\n",
              "    </tr>\n",
              "    <tr>\n",
              "      <th>2008-02-26</th>\n",
              "      <td>10596.40</td>\n",
              "      <td>10668.35</td>\n",
              "      <td>10578.01</td>\n",
              "      <td>10668.35</td>\n",
              "      <td>79.51</td>\n",
              "      <td>265668784.0</td>\n",
              "    </tr>\n",
              "    <tr>\n",
              "      <th>2008-02-27</th>\n",
              "      <td>10670.68</td>\n",
              "      <td>10732.92</td>\n",
              "      <td>10623.36</td>\n",
              "      <td>10664.36</td>\n",
              "      <td>-3.99</td>\n",
              "      <td>396419776.0</td>\n",
              "    </tr>\n",
              "    <tr>\n",
              "      <th>2008-02-28</th>\n",
              "      <td>10688.98</td>\n",
              "      <td>10724.21</td>\n",
              "      <td>10655.23</td>\n",
              "      <td>10704.15</td>\n",
              "      <td>39.79</td>\n",
              "      <td>325539584.0</td>\n",
              "    </tr>\n",
              "  </tbody>\n",
              "</table>\n",
              "</div>\n",
              "      <button class=\"colab-df-convert\" onclick=\"convertToInteractive('df-7ea8465f-dad0-4728-83e9-ad9137771372')\"\n",
              "              title=\"Convert this dataframe to an interactive table.\"\n",
              "              style=\"display:none;\">\n",
              "        \n",
              "  <svg xmlns=\"http://www.w3.org/2000/svg\" height=\"24px\"viewBox=\"0 0 24 24\"\n",
              "       width=\"24px\">\n",
              "    <path d=\"M0 0h24v24H0V0z\" fill=\"none\"/>\n",
              "    <path d=\"M18.56 5.44l.94 2.06.94-2.06 2.06-.94-2.06-.94-.94-2.06-.94 2.06-2.06.94zm-11 1L8.5 8.5l.94-2.06 2.06-.94-2.06-.94L8.5 2.5l-.94 2.06-2.06.94zm10 10l.94 2.06.94-2.06 2.06-.94-2.06-.94-.94-2.06-.94 2.06-2.06.94z\"/><path d=\"M17.41 7.96l-1.37-1.37c-.4-.4-.92-.59-1.43-.59-.52 0-1.04.2-1.43.59L10.3 9.45l-7.72 7.72c-.78.78-.78 2.05 0 2.83L4 21.41c.39.39.9.59 1.41.59.51 0 1.02-.2 1.41-.59l7.78-7.78 2.81-2.81c.8-.78.8-2.07 0-2.86zM5.41 20L4 18.59l7.72-7.72 1.47 1.35L5.41 20z\"/>\n",
              "  </svg>\n",
              "      </button>\n",
              "      \n",
              "  <style>\n",
              "    .colab-df-container {\n",
              "      display:flex;\n",
              "      flex-wrap:wrap;\n",
              "      gap: 12px;\n",
              "    }\n",
              "\n",
              "    .colab-df-convert {\n",
              "      background-color: #E8F0FE;\n",
              "      border: none;\n",
              "      border-radius: 50%;\n",
              "      cursor: pointer;\n",
              "      display: none;\n",
              "      fill: #1967D2;\n",
              "      height: 32px;\n",
              "      padding: 0 0 0 0;\n",
              "      width: 32px;\n",
              "    }\n",
              "\n",
              "    .colab-df-convert:hover {\n",
              "      background-color: #E2EBFA;\n",
              "      box-shadow: 0px 1px 2px rgba(60, 64, 67, 0.3), 0px 1px 3px 1px rgba(60, 64, 67, 0.15);\n",
              "      fill: #174EA6;\n",
              "    }\n",
              "\n",
              "    [theme=dark] .colab-df-convert {\n",
              "      background-color: #3B4455;\n",
              "      fill: #D2E3FC;\n",
              "    }\n",
              "\n",
              "    [theme=dark] .colab-df-convert:hover {\n",
              "      background-color: #434B5C;\n",
              "      box-shadow: 0px 1px 3px 1px rgba(0, 0, 0, 0.15);\n",
              "      filter: drop-shadow(0px 1px 2px rgba(0, 0, 0, 0.3));\n",
              "      fill: #FFFFFF;\n",
              "    }\n",
              "  </style>\n",
              "\n",
              "      <script>\n",
              "        const buttonEl =\n",
              "          document.querySelector('#df-7ea8465f-dad0-4728-83e9-ad9137771372 button.colab-df-convert');\n",
              "        buttonEl.style.display =\n",
              "          google.colab.kernel.accessAllowed ? 'block' : 'none';\n",
              "\n",
              "        async function convertToInteractive(key) {\n",
              "          const element = document.querySelector('#df-7ea8465f-dad0-4728-83e9-ad9137771372');\n",
              "          const dataTable =\n",
              "            await google.colab.kernel.invokeFunction('convertToInteractive',\n",
              "                                                     [key], {});\n",
              "          if (!dataTable) return;\n",
              "\n",
              "          const docLinkHtml = 'Like what you see? Visit the ' +\n",
              "            '<a target=\"_blank\" href=https://colab.research.google.com/notebooks/data_table.ipynb>data table notebook</a>'\n",
              "            + ' to learn more about interactive tables.';\n",
              "          element.innerHTML = '';\n",
              "          dataTable['output_type'] = 'display_data';\n",
              "          await google.colab.output.renderOutput(dataTable, element);\n",
              "          const docLink = document.createElement('div');\n",
              "          docLink.innerHTML = docLinkHtml;\n",
              "          element.appendChild(docLink);\n",
              "        }\n",
              "      </script>\n",
              "    </div>\n",
              "  </div>\n",
              "  "
            ],
            "text/plain": [
              "                Open      High       Low     Close  Change       Volume\n",
              "Date                                                                   \n",
              "2008-02-22  10634.22  10635.42  10546.38  10607.29    0.00  313082688.0\n",
              "2008-02-25  10625.66  10709.06  10579.49  10588.84  -18.45  273149184.0\n",
              "2008-02-26  10596.40  10668.35  10578.01  10668.35   79.51  265668784.0\n",
              "2008-02-27  10670.68  10732.92  10623.36  10664.36   -3.99  396419776.0\n",
              "2008-02-28  10688.98  10724.21  10655.23  10704.15   39.79  325539584.0"
            ]
          },
          "metadata": {},
          "execution_count": 919
        }
      ]
    },
    {
      "cell_type": "code",
      "source": [
        "data.head()"
      ],
      "metadata": {
        "colab": {
          "base_uri": "https://localhost:8080/",
          "height": 237
        },
        "id": "GaRrDJi2s6Wr",
        "outputId": "6c88efb4-ad8b-4d35-a1c6-7c2d54ce0192"
      },
      "id": "GaRrDJi2s6Wr",
      "execution_count": null,
      "outputs": [
        {
          "output_type": "execute_result",
          "data": {
            "text/html": [
              "\n",
              "  <div id=\"df-35ba7c4d-772d-49ee-b96d-7cd4e81bd562\">\n",
              "    <div class=\"colab-df-container\">\n",
              "      <div>\n",
              "<style scoped>\n",
              "    .dataframe tbody tr th:only-of-type {\n",
              "        vertical-align: middle;\n",
              "    }\n",
              "\n",
              "    .dataframe tbody tr th {\n",
              "        vertical-align: top;\n",
              "    }\n",
              "\n",
              "    .dataframe thead th {\n",
              "        text-align: right;\n",
              "    }\n",
              "</style>\n",
              "<table border=\"1\" class=\"dataframe\">\n",
              "  <thead>\n",
              "    <tr style=\"text-align: right;\">\n",
              "      <th></th>\n",
              "      <th>Open</th>\n",
              "      <th>High</th>\n",
              "      <th>Low</th>\n",
              "      <th>Close</th>\n",
              "      <th>Change</th>\n",
              "      <th>Volume</th>\n",
              "    </tr>\n",
              "    <tr>\n",
              "      <th>Date</th>\n",
              "      <th></th>\n",
              "      <th></th>\n",
              "      <th></th>\n",
              "      <th></th>\n",
              "      <th></th>\n",
              "      <th></th>\n",
              "    </tr>\n",
              "  </thead>\n",
              "  <tbody>\n",
              "    <tr>\n",
              "      <th>2008-02-22</th>\n",
              "      <td>10634.22</td>\n",
              "      <td>10635.42</td>\n",
              "      <td>10546.38</td>\n",
              "      <td>10607.29</td>\n",
              "      <td>0.00</td>\n",
              "      <td>313082688.0</td>\n",
              "    </tr>\n",
              "    <tr>\n",
              "      <th>2008-02-25</th>\n",
              "      <td>10625.66</td>\n",
              "      <td>10709.06</td>\n",
              "      <td>10579.49</td>\n",
              "      <td>10588.84</td>\n",
              "      <td>-18.45</td>\n",
              "      <td>273149184.0</td>\n",
              "    </tr>\n",
              "    <tr>\n",
              "      <th>2008-02-26</th>\n",
              "      <td>10596.40</td>\n",
              "      <td>10668.35</td>\n",
              "      <td>10578.01</td>\n",
              "      <td>10668.35</td>\n",
              "      <td>79.51</td>\n",
              "      <td>265668784.0</td>\n",
              "    </tr>\n",
              "    <tr>\n",
              "      <th>2008-02-27</th>\n",
              "      <td>10670.68</td>\n",
              "      <td>10732.92</td>\n",
              "      <td>10623.36</td>\n",
              "      <td>10664.36</td>\n",
              "      <td>-3.99</td>\n",
              "      <td>396419776.0</td>\n",
              "    </tr>\n",
              "    <tr>\n",
              "      <th>2008-02-28</th>\n",
              "      <td>10688.98</td>\n",
              "      <td>10724.21</td>\n",
              "      <td>10655.23</td>\n",
              "      <td>10704.15</td>\n",
              "      <td>39.79</td>\n",
              "      <td>325539584.0</td>\n",
              "    </tr>\n",
              "  </tbody>\n",
              "</table>\n",
              "</div>\n",
              "      <button class=\"colab-df-convert\" onclick=\"convertToInteractive('df-35ba7c4d-772d-49ee-b96d-7cd4e81bd562')\"\n",
              "              title=\"Convert this dataframe to an interactive table.\"\n",
              "              style=\"display:none;\">\n",
              "        \n",
              "  <svg xmlns=\"http://www.w3.org/2000/svg\" height=\"24px\"viewBox=\"0 0 24 24\"\n",
              "       width=\"24px\">\n",
              "    <path d=\"M0 0h24v24H0V0z\" fill=\"none\"/>\n",
              "    <path d=\"M18.56 5.44l.94 2.06.94-2.06 2.06-.94-2.06-.94-.94-2.06-.94 2.06-2.06.94zm-11 1L8.5 8.5l.94-2.06 2.06-.94-2.06-.94L8.5 2.5l-.94 2.06-2.06.94zm10 10l.94 2.06.94-2.06 2.06-.94-2.06-.94-.94-2.06-.94 2.06-2.06.94z\"/><path d=\"M17.41 7.96l-1.37-1.37c-.4-.4-.92-.59-1.43-.59-.52 0-1.04.2-1.43.59L10.3 9.45l-7.72 7.72c-.78.78-.78 2.05 0 2.83L4 21.41c.39.39.9.59 1.41.59.51 0 1.02-.2 1.41-.59l7.78-7.78 2.81-2.81c.8-.78.8-2.07 0-2.86zM5.41 20L4 18.59l7.72-7.72 1.47 1.35L5.41 20z\"/>\n",
              "  </svg>\n",
              "      </button>\n",
              "      \n",
              "  <style>\n",
              "    .colab-df-container {\n",
              "      display:flex;\n",
              "      flex-wrap:wrap;\n",
              "      gap: 12px;\n",
              "    }\n",
              "\n",
              "    .colab-df-convert {\n",
              "      background-color: #E8F0FE;\n",
              "      border: none;\n",
              "      border-radius: 50%;\n",
              "      cursor: pointer;\n",
              "      display: none;\n",
              "      fill: #1967D2;\n",
              "      height: 32px;\n",
              "      padding: 0 0 0 0;\n",
              "      width: 32px;\n",
              "    }\n",
              "\n",
              "    .colab-df-convert:hover {\n",
              "      background-color: #E2EBFA;\n",
              "      box-shadow: 0px 1px 2px rgba(60, 64, 67, 0.3), 0px 1px 3px 1px rgba(60, 64, 67, 0.15);\n",
              "      fill: #174EA6;\n",
              "    }\n",
              "\n",
              "    [theme=dark] .colab-df-convert {\n",
              "      background-color: #3B4455;\n",
              "      fill: #D2E3FC;\n",
              "    }\n",
              "\n",
              "    [theme=dark] .colab-df-convert:hover {\n",
              "      background-color: #434B5C;\n",
              "      box-shadow: 0px 1px 3px 1px rgba(0, 0, 0, 0.15);\n",
              "      filter: drop-shadow(0px 1px 2px rgba(0, 0, 0, 0.3));\n",
              "      fill: #FFFFFF;\n",
              "    }\n",
              "  </style>\n",
              "\n",
              "      <script>\n",
              "        const buttonEl =\n",
              "          document.querySelector('#df-35ba7c4d-772d-49ee-b96d-7cd4e81bd562 button.colab-df-convert');\n",
              "        buttonEl.style.display =\n",
              "          google.colab.kernel.accessAllowed ? 'block' : 'none';\n",
              "\n",
              "        async function convertToInteractive(key) {\n",
              "          const element = document.querySelector('#df-35ba7c4d-772d-49ee-b96d-7cd4e81bd562');\n",
              "          const dataTable =\n",
              "            await google.colab.kernel.invokeFunction('convertToInteractive',\n",
              "                                                     [key], {});\n",
              "          if (!dataTable) return;\n",
              "\n",
              "          const docLinkHtml = 'Like what you see? Visit the ' +\n",
              "            '<a target=\"_blank\" href=https://colab.research.google.com/notebooks/data_table.ipynb>data table notebook</a>'\n",
              "            + ' to learn more about interactive tables.';\n",
              "          element.innerHTML = '';\n",
              "          dataTable['output_type'] = 'display_data';\n",
              "          await google.colab.output.renderOutput(dataTable, element);\n",
              "          const docLink = document.createElement('div');\n",
              "          docLink.innerHTML = docLinkHtml;\n",
              "          element.appendChild(docLink);\n",
              "        }\n",
              "      </script>\n",
              "    </div>\n",
              "  </div>\n",
              "  "
            ],
            "text/plain": [
              "                Open      High       Low     Close  Change       Volume\n",
              "Date                                                                   \n",
              "2008-02-22  10634.22  10635.42  10546.38  10607.29    0.00  313082688.0\n",
              "2008-02-25  10625.66  10709.06  10579.49  10588.84  -18.45  273149184.0\n",
              "2008-02-26  10596.40  10668.35  10578.01  10668.35   79.51  265668784.0\n",
              "2008-02-27  10670.68  10732.92  10623.36  10664.36   -3.99  396419776.0\n",
              "2008-02-28  10688.98  10724.21  10655.23  10704.15   39.79  325539584.0"
            ]
          },
          "metadata": {},
          "execution_count": 920
        }
      ]
    },
    {
      "cell_type": "code",
      "execution_count": null,
      "id": "31c439c3",
      "metadata": {
        "scrolled": false,
        "colab": {
          "base_uri": "https://localhost:8080/",
          "height": 298
        },
        "id": "31c439c3",
        "outputId": "c3767e29-ac88-48a9-8e1c-cd90fab196ae"
      },
      "outputs": [
        {
          "output_type": "execute_result",
          "data": {
            "text/plain": [
              "[<matplotlib.lines.Line2D at 0x7fb21ad2d550>]"
            ]
          },
          "metadata": {},
          "execution_count": 921
        },
        {
          "output_type": "display_data",
          "data": {
            "image/png": "[encoded data removed]",
            "text/plain": [
              "<Figure size 432x288 with 1 Axes>"
            ]
          },
          "metadata": {}
        }
      ],
      "source": [
        "plt.plot(data[['Close']])"
      ]
    },
    {
      "cell_type": "code",
      "source": [
        "data = data['Close']"
      ],
      "metadata": {
        "id": "ev9m_X4Zk9Of"
      },
      "id": "ev9m_X4Zk9Of",
      "execution_count": null,
      "outputs": []
    },
    {
      "cell_type": "code",
      "source": [
        "data.head()"
      ],
      "metadata": {
        "colab": {
          "base_uri": "https://localhost:8080/"
        },
        "id": "ibFtcqMNGR-4",
        "outputId": "673710c6-e63e-4de8-9fcf-bee729f9cd55"
      },
      "id": "ibFtcqMNGR-4",
      "execution_count": null,
      "outputs": [
        {
          "output_type": "execute_result",
          "data": {
            "text/plain": [
              "Date\n",
              "2008-02-22    10607.29\n",
              "2008-02-25    10588.84\n",
              "2008-02-26    10668.35\n",
              "2008-02-27    10664.36\n",
              "2008-02-28    10704.15\n",
              "Name: Close, dtype: float64"
            ]
          },
          "metadata": {},
          "execution_count": 923
        }
      ]
    },
    {
      "cell_type": "code",
      "source": [
        "from sklearn.preprocessing import MinMaxScaler\n",
        "scaler = MinMaxScaler(feature_range=(0, 1))\n",
        "data = scaler.fit_transform(np.array(data).reshape(-1,1))"
      ],
      "metadata": {
        "id": "ZqEhfPoVw5JJ"
      },
      "id": "ZqEhfPoVw5JJ",
      "execution_count": null,
      "outputs": []
    },
    {
      "cell_type": "code",
      "source": [
        "data"
      ],
      "metadata": {
        "colab": {
          "base_uri": "https://localhost:8080/"
        },
        "id": "0aUTBiHkCmnn",
        "outputId": "b3422a93-7566-4d03-cae2-5cf84ef65d4a"
      },
      "id": "0aUTBiHkCmnn",
      "execution_count": null,
      "outputs": [
        {
          "output_type": "execute_result",
          "data": {
            "text/plain": [
              "array([[0.21358728],\n",
              "       [0.2130211 ],\n",
              "       [0.21546103],\n",
              "       ...,\n",
              "       [0.86549831],\n",
              "       [0.85925013],\n",
              "       [0.85859404]])"
            ]
          },
          "metadata": {},
          "execution_count": 925
        }
      ]
    },
    {
      "cell_type": "code",
      "execution_count": null,
      "id": "a4c77ec8",
      "metadata": {
        "id": "a4c77ec8"
      },
      "outputs": [],
      "source": [
        "#data['High'] = data['High'] / 1000\n",
        "#data['Open'] = data['Open'] / 1000\n",
        "#data['Close'] = data['Close'] / 1000\n",
        "#data['Low'] = data['Low'] / 1000\n",
        "#data.head()"
      ]
    },
    {
      "cell_type": "code",
      "source": [
        "data"
      ],
      "metadata": {
        "colab": {
          "base_uri": "https://localhost:8080/"
        },
        "id": "PW__97sj0vUI",
        "outputId": "7b9e864b-d300-4b44-94a9-fa8f2165abcf"
      },
      "id": "PW__97sj0vUI",
      "execution_count": null,
      "outputs": [
        {
          "output_type": "execute_result",
          "data": {
            "text/plain": [
              "array([[0.21358728],\n",
              "       [0.2130211 ],\n",
              "       [0.21546103],\n",
              "       ...,\n",
              "       [0.86549831],\n",
              "       [0.85925013],\n",
              "       [0.85859404]])"
            ]
          },
          "metadata": {},
          "execution_count": 927
        }
      ]
    },
    {
      "cell_type": "code",
      "source": [
        "train_size,test_size"
      ],
      "metadata": {
        "colab": {
          "base_uri": "https://localhost:8080/"
        },
        "id": "nE4H-tyg1PAA",
        "outputId": "61c67ec4-02d2-4dba-e8e6-e034b3af0fce"
      },
      "id": "nE4H-tyg1PAA",
      "execution_count": null,
      "outputs": [
        {
          "output_type": "execute_result",
          "data": {
            "text/plain": [
              "(2093, 1128)"
            ]
          },
          "metadata": {},
          "execution_count": 378
        }
      ]
    },
    {
      "cell_type": "code",
      "execution_count": null,
      "id": "1fc3fbab",
      "metadata": {
        "id": "1fc3fbab"
      },
      "outputs": [],
      "source": [
        "import numpy\n",
        "# convert an array of values into a dataset matrix\n",
        "def create_dataset(dataset, time_step=1):\n",
        "\tdataX, dataY = [], []\n",
        "\tfor i in range(len(dataset)-time_step-1):\n",
        "\t\ta = dataset[i:(i+time_step), 0]   ###i=0, 0,1,2,3-----99   100 \n",
        "\t\tdataX.append(a)\n",
        "\t\tdataY.append(dataset[i + time_step, 0])\n",
        "\treturn np.array(dataX), np.array(dataY)"
      ]
    },
    {
      "cell_type": "code",
      "execution_count": null,
      "id": "211dde7f",
      "metadata": {
        "id": "211dde7f"
      },
      "outputs": [],
      "source": [
        "# reshape into X=t,t+1,t+2,t+3 and Y=t+4\n",
        "time_step = 100\n",
        "X_train, y_train = create_dataset(train_data, time_step)\n",
        "X_test, ytest = create_dataset(test_data, time_step)"
      ]
    },
    {
      "cell_type": "code",
      "execution_count": null,
      "id": "023ee813",
      "metadata": {
        "colab": {
          "base_uri": "https://localhost:8080/"
        },
        "id": "023ee813",
        "outputId": "f6530bbe-02c8-4185-9cce-dcd9c1183717"
      },
      "outputs": [
        {
          "output_type": "stream",
          "name": "stdout",
          "text": [
            "(1992, 100)\n",
            "(1992,)\n"
          ]
        },
        {
          "output_type": "execute_result",
          "data": {
            "text/plain": [
              "(None, None)"
            ]
          },
          "metadata": {},
          "execution_count": 929
        }
      ],
      "source": [
        "print(X_train.shape), print(y_train.shape)"
      ]
    },
    {
      "cell_type": "code",
      "execution_count": null,
      "id": "55fa7a22",
      "metadata": {
        "id": "55fa7a22"
      },
      "outputs": [],
      "source": [
        "# reshape input to be [samples, time steps, features] which is required for LSTM\n",
        "X_train =X_train.reshape(X_train.shape[0],X_train.shape[1] , 1)\n",
        "X_test = X_test.reshape(X_test.shape[0],X_test.shape[1] , 1)"
      ]
    },
    {
      "cell_type": "code",
      "execution_count": null,
      "id": "590f7f93",
      "metadata": {
        "id": "590f7f93"
      },
      "outputs": [],
      "source": [
        "### Create the Stacked LSTM model\n",
        "from tensorflow.keras.models import Sequential\n",
        "from tensorflow.keras.layers import Dense\n",
        "from tensorflow.keras.layers import LSTM"
      ]
    },
    {
      "cell_type": "code",
      "execution_count": null,
      "id": "a40c6ff1",
      "metadata": {
        "id": "a40c6ff1"
      },
      "outputs": [],
      "source": [
        "model=Sequential()\n",
        "model.add(LSTM(50,return_sequences=True,input_shape=(100,1)))\n",
        "#model.add(Dropout(0.2))\n",
        "model.add(LSTM(50,return_sequences=True))\n",
        "#model.add(Dropout(0.2))\n",
        "model.add(LSTM(50,return_sequences=True))\n",
        "model.add(LSTM(50))\n",
        "model.add(Dense(1))\n",
        "model.compile(loss='mean_squared_error',optimizer='adam')"
      ]
    },
    {
      "cell_type": "code",
      "execution_count": null,
      "id": "1ca0b2b7",
      "metadata": {
        "scrolled": true,
        "colab": {
          "base_uri": "https://localhost:8080/"
        },
        "id": "1ca0b2b7",
        "outputId": "baf2987a-c4eb-402d-c31a-429b2d810d4b"
      },
      "outputs": [
        {
          "output_type": "stream",
          "name": "stdout",
          "text": [
            "Model: \"sequential_36\"\n",
            "_________________________________________________________________\n",
            " Layer (type)                Output Shape              Param #   \n",
            "=================================================================\n",
            " lstm_52 (LSTM)              (None, 100, 50)           10400     \n",
            "                                                                 \n",
            " lstm_53 (LSTM)              (None, 100, 50)           20200     \n",
            "                                                                 \n",
            " lstm_54 (LSTM)              (None, 100, 50)           20200     \n",
            "                                                                 \n",
            " lstm_55 (LSTM)              (None, 50)                20200     \n",
            "                                                                 \n",
            " dense_37 (Dense)            (None, 1)                 51        \n",
            "                                                                 \n",
            "=================================================================\n",
            "Total params: 71,051\n",
            "Trainable params: 71,051\n",
            "Non-trainable params: 0\n",
            "_________________________________________________________________\n"
          ]
        }
      ],
      "source": [
        "model.summary()"
      ]
    },
    {
      "cell_type": "code",
      "execution_count": null,
      "id": "78a07839",
      "metadata": {
        "colab": {
          "base_uri": "https://localhost:8080/"
        },
        "id": "78a07839",
        "outputId": "86422423-f3cc-4bef-d1c0-3b1624a67e7a"
      },
      "outputs": [
        {
          "output_type": "stream",
          "name": "stdout",
          "text": [
            "Epoch 1/10\n",
            "32/32 [==============================] - 16s 308ms/step - loss: 0.0189 - val_loss: 0.0016\n",
            "Epoch 2/10\n",
            "32/32 [==============================] - 8s 260ms/step - loss: 5.4810e-04 - val_loss: 0.0029\n",
            "Epoch 3/10\n",
            "32/32 [==============================] - 8s 254ms/step - loss: 2.9442e-04 - val_loss: 0.0026\n",
            "Epoch 4/10\n",
            "32/32 [==============================] - 8s 257ms/step - loss: 2.7962e-04 - val_loss: 0.0023\n",
            "Epoch 5/10\n",
            "32/32 [==============================] - 8s 260ms/step - loss: 2.5541e-04 - val_loss: 0.0026\n",
            "Epoch 6/10\n",
            "32/32 [==============================] - 8s 256ms/step - loss: 2.6323e-04 - val_loss: 0.0020\n",
            "Epoch 7/10\n",
            "32/32 [==============================] - 8s 254ms/step - loss: 2.6609e-04 - val_loss: 0.0019\n",
            "Epoch 8/10\n",
            "32/32 [==============================] - 8s 257ms/step - loss: 2.4545e-04 - val_loss: 0.0019\n",
            "Epoch 9/10\n",
            "32/32 [==============================] - 8s 254ms/step - loss: 2.4610e-04 - val_loss: 0.0024\n",
            "Epoch 10/10\n",
            "32/32 [==============================] - 8s 259ms/step - loss: 2.3744e-04 - val_loss: 0.0015\n"
          ]
        },
        {
          "output_type": "execute_result",
          "data": {
            "text/plain": [
              "<keras.callbacks.History at 0x7fb2158f9b50>"
            ]
          },
          "metadata": {},
          "execution_count": 934
        }
      ],
      "source": [
        "model.fit(X_train,y_train,validation_data=(X_test,ytest),epochs=10,batch_size=64,verbose=1)"
      ]
    },
    {
      "cell_type": "code",
      "execution_count": null,
      "id": "40a6f4ac",
      "metadata": {
        "id": "40a6f4ac"
      },
      "outputs": [],
      "source": [
        "import tensorflow as tf"
      ]
    },
    {
      "cell_type": "code",
      "execution_count": null,
      "id": "312c4513",
      "metadata": {
        "id": "312c4513"
      },
      "outputs": [],
      "source": [
        "### Lets Do the prediction and check performance metrics\n",
        "train_predict=model.predict(X_train)\n",
        "test_predict=model.predict(X_test)"
      ]
    },
    {
      "cell_type": "code",
      "execution_count": null,
      "id": "0797d9c5",
      "metadata": {
        "colab": {
          "base_uri": "https://localhost:8080/"
        },
        "id": "0797d9c5",
        "outputId": "111bf748-7b8a-46ff-e9bb-d572c82fc7e1"
      },
      "outputs": [
        {
          "output_type": "execute_result",
          "data": {
            "text/plain": [
              "0.017131267878343202"
            ]
          },
          "metadata": {},
          "execution_count": 937
        }
      ],
      "source": [
        "### Calculate RMSE performance metrics\n",
        "import math\n",
        "from sklearn.metrics import mean_squared_error\n",
        "math.sqrt(mean_squared_error(y_train,train_predict))"
      ]
    },
    {
      "cell_type": "code",
      "execution_count": null,
      "id": "173d0bf6",
      "metadata": {
        "colab": {
          "base_uri": "https://localhost:8080/"
        },
        "id": "173d0bf6",
        "outputId": "3a423eaf-f604-4256-ddec-1f3662632a32"
      },
      "outputs": [
        {
          "output_type": "execute_result",
          "data": {
            "text/plain": [
              "0.038258051262139145"
            ]
          },
          "metadata": {},
          "execution_count": 938
        }
      ],
      "source": [
        "### Test Data RMSE\n",
        "math.sqrt(mean_squared_error(ytest,test_predict))"
      ]
    },
    {
      "cell_type": "code",
      "execution_count": null,
      "id": "5fafa1f2",
      "metadata": {
        "colab": {
          "base_uri": "https://localhost:8080/"
        },
        "id": "5fafa1f2",
        "outputId": "056dee38-45c5-4edf-a66a-dc60a674ad38"
      },
      "outputs": [
        {
          "output_type": "execute_result",
          "data": {
            "text/plain": [
              "0.8477574144287404"
            ]
          },
          "metadata": {},
          "execution_count": 939
        }
      ],
      "source": [
        "import sklearn.metrics as sm\n",
        "sm.r2_score(ytest, test_predict)"
      ]
    },
    {
      "cell_type": "code",
      "execution_count": null,
      "id": "78eb383d",
      "metadata": {
        "scrolled": true,
        "colab": {
          "base_uri": "https://localhost:8080/"
        },
        "id": "78eb383d",
        "outputId": "a1434302-edc4-4d3a-d8d4-bf736252bf36"
      },
      "outputs": [
        {
          "output_type": "execute_result",
          "data": {
            "text/plain": [
              "0.038931432160018264"
            ]
          },
          "metadata": {},
          "execution_count": 940
        }
      ],
      "source": [
        "sm.mean_absolute_percentage_error(ytest, test_predict)"
      ]
    },
    {
      "cell_type": "code",
      "source": [
        "test_data"
      ],
      "metadata": {
        "colab": {
          "base_uri": "https://localhost:8080/"
        },
        "id": "mmdG_kKgMVl5",
        "outputId": "a72f12ec-ded6-477d-d4f8-29ae07ae0beb"
      },
      "id": "mmdG_kKgMVl5",
      "execution_count": null,
      "outputs": [
        {
          "output_type": "execute_result",
          "data": {
            "text/plain": [
              "array([[0.6985617 ],\n",
              "       [0.70080523],\n",
              "       [0.70159695],\n",
              "       ...,\n",
              "       [0.86549831],\n",
              "       [0.85925013],\n",
              "       [0.85859404]])"
            ]
          },
          "metadata": {},
          "execution_count": 941
        }
      ]
    },
    {
      "cell_type": "code",
      "source": [
        "train_data"
      ],
      "metadata": {
        "colab": {
          "base_uri": "https://localhost:8080/"
        },
        "id": "fQhyRnmYBUSy",
        "outputId": "763c3f24-0204-4040-8d5f-25714ac322df"
      },
      "id": "fQhyRnmYBUSy",
      "execution_count": null,
      "outputs": [
        {
          "output_type": "execute_result",
          "data": {
            "text/plain": [
              "array([[0.21358728],\n",
              "       [0.2130211 ],\n",
              "       [0.21546103],\n",
              "       ...,\n",
              "       [0.6949121 ],\n",
              "       [0.69409705],\n",
              "       [0.69520945]])"
            ]
          },
          "metadata": {},
          "execution_count": 942
        }
      ]
    },
    {
      "cell_type": "code",
      "source": [
        " pred = np.concatenate([train_predict, test_predict], axis=0)"
      ],
      "metadata": {
        "id": "hZwm2gWwL5Ya"
      },
      "id": "hZwm2gWwL5Ya",
      "execution_count": null,
      "outputs": []
    },
    {
      "cell_type": "code",
      "source": [
        "train_predict.shape"
      ],
      "metadata": {
        "colab": {
          "base_uri": "https://localhost:8080/"
        },
        "id": "AbilFWEGFh5Q",
        "outputId": "43d879be-da89-4159-b650-900001e22ffb"
      },
      "id": "AbilFWEGFh5Q",
      "execution_count": null,
      "outputs": [
        {
          "output_type": "execute_result",
          "data": {
            "text/plain": [
              "(1992, 1)"
            ]
          },
          "metadata": {},
          "execution_count": 947
        }
      ]
    },
    {
      "cell_type": "code",
      "source": [
        "data.shape"
      ],
      "metadata": {
        "colab": {
          "base_uri": "https://localhost:8080/"
        },
        "id": "S_v4yPbCOKsZ",
        "outputId": "de18212a-97ce-4fe2-a386-4c23d33acd0c"
      },
      "id": "S_v4yPbCOKsZ",
      "execution_count": null,
      "outputs": [
        {
          "output_type": "execute_result",
          "data": {
            "text/plain": [
              "(3221, 1)"
            ]
          },
          "metadata": {},
          "execution_count": 944
        }
      ]
    },
    {
      "cell_type": "code",
      "source": [
        "pred.shape"
      ],
      "metadata": {
        "colab": {
          "base_uri": "https://localhost:8080/"
        },
        "id": "65utHSGwOEN7",
        "outputId": "5e2f42c6-64bb-4405-bd8f-3df78a3076fe"
      },
      "id": "65utHSGwOEN7",
      "execution_count": null,
      "outputs": [
        {
          "output_type": "execute_result",
          "data": {
            "text/plain": [
              "(3019, 1)"
            ]
          },
          "metadata": {},
          "execution_count": 945
        }
      ]
    },
    {
      "cell_type": "code",
      "source": [
        "d = pd.read_csv('/content/stock-exchange-kse-100pakistan.csv', parse_dates=['Date'],index_col=['Date'])\n",
        "d = pd.DataFrame(d)\n",
        "d.sort_values(by=['Date'], inplace=True, ascending=True)\n",
        "d = d[['Close']]\n",
        "d.head()"
      ],
      "metadata": {
        "colab": {
          "base_uri": "https://localhost:8080/",
          "height": 237
        },
        "id": "BcaGzeEZOYF3",
        "outputId": "83a3dca8-8907-4df6-ee91-511bb12fbf7d"
      },
      "id": "BcaGzeEZOYF3",
      "execution_count": null,
      "outputs": [
        {
          "output_type": "execute_result",
          "data": {
            "text/html": [
              "\n",
              "  <div id=\"df-4639dfa8-9a1d-46b2-833b-8359d2689eaf\">\n",
              "    <div class=\"colab-df-container\">\n",
              "      <div>\n",
              "<style scoped>\n",
              "    .dataframe tbody tr th:only-of-type {\n",
              "        vertical-align: middle;\n",
              "    }\n",
              "\n",
              "    .dataframe tbody tr th {\n",
              "        vertical-align: top;\n",
              "    }\n",
              "\n",
              "    .dataframe thead th {\n",
              "        text-align: right;\n",
              "    }\n",
              "</style>\n",
              "<table border=\"1\" class=\"dataframe\">\n",
              "  <thead>\n",
              "    <tr style=\"text-align: right;\">\n",
              "      <th></th>\n",
              "      <th>Close</th>\n",
              "    </tr>\n",
              "    <tr>\n",
              "      <th>Date</th>\n",
              "      <th></th>\n",
              "    </tr>\n",
              "  </thead>\n",
              "  <tbody>\n",
              "    <tr>\n",
              "      <th>2008-02-22</th>\n",
              "      <td>10,607.29</td>\n",
              "    </tr>\n",
              "    <tr>\n",
              "      <th>2008-02-25</th>\n",
              "      <td>10,588.84</td>\n",
              "    </tr>\n",
              "    <tr>\n",
              "      <th>2008-02-26</th>\n",
              "      <td>10,668.35</td>\n",
              "    </tr>\n",
              "    <tr>\n",
              "      <th>2008-02-27</th>\n",
              "      <td>10,664.36</td>\n",
              "    </tr>\n",
              "    <tr>\n",
              "      <th>2008-02-28</th>\n",
              "      <td>10,704.15</td>\n",
              "    </tr>\n",
              "  </tbody>\n",
              "</table>\n",
              "</div>\n",
              "      <button class=\"colab-df-convert\" onclick=\"convertToInteractive('df-4639dfa8-9a1d-46b2-833b-8359d2689eaf')\"\n",
              "              title=\"Convert this dataframe to an interactive table.\"\n",
              "              style=\"display:none;\">\n",
              "        \n",
              "  <svg xmlns=\"http://www.w3.org/2000/svg\" height=\"24px\"viewBox=\"0 0 24 24\"\n",
              "       width=\"24px\">\n",
              "    <path d=\"M0 0h24v24H0V0z\" fill=\"none\"/>\n",
              "    <path d=\"M18.56 5.44l.94 2.06.94-2.06 2.06-.94-2.06-.94-.94-2.06-.94 2.06-2.06.94zm-11 1L8.5 8.5l.94-2.06 2.06-.94-2.06-.94L8.5 2.5l-.94 2.06-2.06.94zm10 10l.94 2.06.94-2.06 2.06-.94-2.06-.94-.94-2.06-.94 2.06-2.06.94z\"/><path d=\"M17.41 7.96l-1.37-1.37c-.4-.4-.92-.59-1.43-.59-.52 0-1.04.2-1.43.59L10.3 9.45l-7.72 7.72c-.78.78-.78 2.05 0 2.83L4 21.41c.39.39.9.59 1.41.59.51 0 1.02-.2 1.41-.59l7.78-7.78 2.81-2.81c.8-.78.8-2.07 0-2.86zM5.41 20L4 18.59l7.72-7.72 1.47 1.35L5.41 20z\"/>\n",
              "  </svg>\n",
              "      </button>\n",
              "      \n",
              "  <style>\n",
              "    .colab-df-container {\n",
              "      display:flex;\n",
              "      flex-wrap:wrap;\n",
              "      gap: 12px;\n",
              "    }\n",
              "\n",
              "    .colab-df-convert {\n",
              "      background-color: #E8F0FE;\n",
              "      border: none;\n",
              "      border-radius: 50%;\n",
              "      cursor: pointer;\n",
              "      display: none;\n",
              "      fill: #1967D2;\n",
              "      height: 32px;\n",
              "      padding: 0 0 0 0;\n",
              "      width: 32px;\n",
              "    }\n",
              "\n",
              "    .colab-df-convert:hover {\n",
              "      background-color: #E2EBFA;\n",
              "      box-shadow: 0px 1px 2px rgba(60, 64, 67, 0.3), 0px 1px 3px 1px rgba(60, 64, 67, 0.15);\n",
              "      fill: #174EA6;\n",
              "    }\n",
              "\n",
              "    [theme=dark] .colab-df-convert {\n",
              "      background-color: #3B4455;\n",
              "      fill: #D2E3FC;\n",
              "    }\n",
              "\n",
              "    [theme=dark] .colab-df-convert:hover {\n",
              "      background-color: #434B5C;\n",
              "      box-shadow: 0px 1px 3px 1px rgba(0, 0, 0, 0.15);\n",
              "      filter: drop-shadow(0px 1px 2px rgba(0, 0, 0, 0.3));\n",
              "      fill: #FFFFFF;\n",
              "    }\n",
              "  </style>\n",
              "\n",
              "      <script>\n",
              "        const buttonEl =\n",
              "          document.querySelector('#df-4639dfa8-9a1d-46b2-833b-8359d2689eaf button.colab-df-convert');\n",
              "        buttonEl.style.display =\n",
              "          google.colab.kernel.accessAllowed ? 'block' : 'none';\n",
              "\n",
              "        async function convertToInteractive(key) {\n",
              "          const element = document.querySelector('#df-4639dfa8-9a1d-46b2-833b-8359d2689eaf');\n",
              "          const dataTable =\n",
              "            await google.colab.kernel.invokeFunction('convertToInteractive',\n",
              "                                                     [key], {});\n",
              "          if (!dataTable) return;\n",
              "\n",
              "          const docLinkHtml = 'Like what you see? Visit the ' +\n",
              "            '<a target=\"_blank\" href=https://colab.research.google.com/notebooks/data_table.ipynb>data table notebook</a>'\n",
              "            + ' to learn more about interactive tables.';\n",
              "          element.innerHTML = '';\n",
              "          dataTable['output_type'] = 'display_data';\n",
              "          await google.colab.output.renderOutput(dataTable, element);\n",
              "          const docLink = document.createElement('div');\n",
              "          docLink.innerHTML = docLinkHtml;\n",
              "          element.appendChild(docLink);\n",
              "        }\n",
              "      </script>\n",
              "    </div>\n",
              "  </div>\n",
              "  "
            ],
            "text/plain": [
              "                Close\n",
              "Date                 \n",
              "2008-02-22  10,607.29\n",
              "2008-02-25  10,588.84\n",
              "2008-02-26  10,668.35\n",
              "2008-02-27  10,664.36\n",
              "2008-02-28  10,704.15"
            ]
          },
          "metadata": {},
          "execution_count": 946
        }
      ]
    },
    {
      "cell_type": "code",
      "source": [
        "a = d.iloc[101:2093,]\n",
        "b = d.iloc[2093:,]"
      ],
      "metadata": {
        "id": "S8zu-D0-OkBb"
      },
      "id": "S8zu-D0-OkBb",
      "execution_count": null,
      "outputs": []
    },
    {
      "cell_type": "code",
      "source": [
        "a"
      ],
      "metadata": {
        "colab": {
          "base_uri": "https://localhost:8080/",
          "height": 455
        },
        "id": "azKjJzVeUj8L",
        "outputId": "4be569fe-a1c7-4606-9f5c-632c9dc7af12"
      },
      "id": "azKjJzVeUj8L",
      "execution_count": null,
      "outputs": [
        {
          "output_type": "execute_result",
          "data": {
            "text/html": [
              "\n",
              "  <div id=\"df-738cb968-95d7-4273-82a0-d17b76760c61\">\n",
              "    <div class=\"colab-df-container\">\n",
              "      <div>\n",
              "<style scoped>\n",
              "    .dataframe tbody tr th:only-of-type {\n",
              "        vertical-align: middle;\n",
              "    }\n",
              "\n",
              "    .dataframe tbody tr th {\n",
              "        vertical-align: top;\n",
              "    }\n",
              "\n",
              "    .dataframe thead th {\n",
              "        text-align: right;\n",
              "    }\n",
              "</style>\n",
              "<table border=\"1\" class=\"dataframe\">\n",
              "  <thead>\n",
              "    <tr style=\"text-align: right;\">\n",
              "      <th></th>\n",
              "      <th>Close</th>\n",
              "    </tr>\n",
              "    <tr>\n",
              "      <th>Date</th>\n",
              "      <th></th>\n",
              "    </tr>\n",
              "  </thead>\n",
              "  <tbody>\n",
              "    <tr>\n",
              "      <th>2008-12-18</th>\n",
              "      <td>5,683.75</td>\n",
              "    </tr>\n",
              "    <tr>\n",
              "      <th>2008-12-19</th>\n",
              "      <td>5,503.21</td>\n",
              "    </tr>\n",
              "    <tr>\n",
              "      <th>2008-12-22</th>\n",
              "      <td>5,300.29</td>\n",
              "    </tr>\n",
              "    <tr>\n",
              "      <th>2008-12-23</th>\n",
              "      <td>5,097.14</td>\n",
              "    </tr>\n",
              "    <tr>\n",
              "      <th>2008-12-24</th>\n",
              "      <td>4,920.50</td>\n",
              "    </tr>\n",
              "    <tr>\n",
              "      <th>...</th>\n",
              "      <td>...</td>\n",
              "    </tr>\n",
              "    <tr>\n",
              "      <th>2016-12-29</th>\n",
              "      <td>32,641.93</td>\n",
              "    </tr>\n",
              "    <tr>\n",
              "      <th>2016-12-30</th>\n",
              "      <td>32,842.43</td>\n",
              "    </tr>\n",
              "    <tr>\n",
              "      <th>2017-01-02</th>\n",
              "      <td>33,145.71</td>\n",
              "    </tr>\n",
              "    <tr>\n",
              "      <th>2017-01-03</th>\n",
              "      <td>33,409.78</td>\n",
              "    </tr>\n",
              "    <tr>\n",
              "      <th>2017-01-04</th>\n",
              "      <td>33,262.96</td>\n",
              "    </tr>\n",
              "  </tbody>\n",
              "</table>\n",
              "<p>1992 rows × 1 columns</p>\n",
              "</div>\n",
              "      <button class=\"colab-df-convert\" onclick=\"convertToInteractive('df-738cb968-95d7-4273-82a0-d17b76760c61')\"\n",
              "              title=\"Convert this dataframe to an interactive table.\"\n",
              "              style=\"display:none;\">\n",
              "        \n",
              "  <svg xmlns=\"http://www.w3.org/2000/svg\" height=\"24px\"viewBox=\"0 0 24 24\"\n",
              "       width=\"24px\">\n",
              "    <path d=\"M0 0h24v24H0V0z\" fill=\"none\"/>\n",
              "    <path d=\"M18.56 5.44l.94 2.06.94-2.06 2.06-.94-2.06-.94-.94-2.06-.94 2.06-2.06.94zm-11 1L8.5 8.5l.94-2.06 2.06-.94-2.06-.94L8.5 2.5l-.94 2.06-2.06.94zm10 10l.94 2.06.94-2.06 2.06-.94-2.06-.94-.94-2.06-.94 2.06-2.06.94z\"/><path d=\"M17.41 7.96l-1.37-1.37c-.4-.4-.92-.59-1.43-.59-.52 0-1.04.2-1.43.59L10.3 9.45l-7.72 7.72c-.78.78-.78 2.05 0 2.83L4 21.41c.39.39.9.59 1.41.59.51 0 1.02-.2 1.41-.59l7.78-7.78 2.81-2.81c.8-.78.8-2.07 0-2.86zM5.41 20L4 18.59l7.72-7.72 1.47 1.35L5.41 20z\"/>\n",
              "  </svg>\n",
              "      </button>\n",
              "      \n",
              "  <style>\n",
              "    .colab-df-container {\n",
              "      display:flex;\n",
              "      flex-wrap:wrap;\n",
              "      gap: 12px;\n",
              "    }\n",
              "\n",
              "    .colab-df-convert {\n",
              "      background-color: #E8F0FE;\n",
              "      border: none;\n",
              "      border-radius: 50%;\n",
              "      cursor: pointer;\n",
              "      display: none;\n",
              "      fill: #1967D2;\n",
              "      height: 32px;\n",
              "      padding: 0 0 0 0;\n",
              "      width: 32px;\n",
              "    }\n",
              "\n",
              "    .colab-df-convert:hover {\n",
              "      background-color: #E2EBFA;\n",
              "      box-shadow: 0px 1px 2px rgba(60, 64, 67, 0.3), 0px 1px 3px 1px rgba(60, 64, 67, 0.15);\n",
              "      fill: #174EA6;\n",
              "    }\n",
              "\n",
              "    [theme=dark] .colab-df-convert {\n",
              "      background-color: #3B4455;\n",
              "      fill: #D2E3FC;\n",
              "    }\n",
              "\n",
              "    [theme=dark] .colab-df-convert:hover {\n",
              "      background-color: #434B5C;\n",
              "      box-shadow: 0px 1px 3px 1px rgba(0, 0, 0, 0.15);\n",
              "      filter: drop-shadow(0px 1px 2px rgba(0, 0, 0, 0.3));\n",
              "      fill: #FFFFFF;\n",
              "    }\n",
              "  </style>\n",
              "\n",
              "      <script>\n",
              "        const buttonEl =\n",
              "          document.querySelector('#df-738cb968-95d7-4273-82a0-d17b76760c61 button.colab-df-convert');\n",
              "        buttonEl.style.display =\n",
              "          google.colab.kernel.accessAllowed ? 'block' : 'none';\n",
              "\n",
              "        async function convertToInteractive(key) {\n",
              "          const element = document.querySelector('#df-738cb968-95d7-4273-82a0-d17b76760c61');\n",
              "          const dataTable =\n",
              "            await google.colab.kernel.invokeFunction('convertToInteractive',\n",
              "                                                     [key], {});\n",
              "          if (!dataTable) return;\n",
              "\n",
              "          const docLinkHtml = 'Like what you see? Visit the ' +\n",
              "            '<a target=\"_blank\" href=https://colab.research.google.com/notebooks/data_table.ipynb>data table notebook</a>'\n",
              "            + ' to learn more about interactive tables.';\n",
              "          element.innerHTML = '';\n",
              "          dataTable['output_type'] = 'display_data';\n",
              "          await google.colab.output.renderOutput(dataTable, element);\n",
              "          const docLink = document.createElement('div');\n",
              "          docLink.innerHTML = docLinkHtml;\n",
              "          element.appendChild(docLink);\n",
              "        }\n",
              "      </script>\n",
              "    </div>\n",
              "  </div>\n",
              "  "
            ],
            "text/plain": [
              "                Close\n",
              "Date                 \n",
              "2008-12-18   5,683.75\n",
              "2008-12-19   5,503.21\n",
              "2008-12-22   5,300.29\n",
              "2008-12-23   5,097.14\n",
              "2008-12-24   4,920.50\n",
              "...               ...\n",
              "2016-12-29  32,641.93\n",
              "2016-12-30  32,842.43\n",
              "2017-01-02  33,145.71\n",
              "2017-01-03  33,409.78\n",
              "2017-01-04  33,262.96\n",
              "\n",
              "[1992 rows x 1 columns]"
            ]
          },
          "metadata": {},
          "execution_count": 954
        }
      ]
    },
    {
      "cell_type": "code",
      "source": [
        "d = pd.concat([a,b],axis = 0)"
      ],
      "metadata": {
        "id": "KeTRXQkiOsVH"
      },
      "id": "KeTRXQkiOsVH",
      "execution_count": null,
      "outputs": []
    },
    {
      "cell_type": "code",
      "source": [
        "d.shape"
      ],
      "metadata": {
        "colab": {
          "base_uri": "https://localhost:8080/"
        },
        "id": "8IhBjqf2Oqyw",
        "outputId": "7bcb295b-abab-4e24-ca11-2f9494ac50d6"
      },
      "id": "8IhBjqf2Oqyw",
      "execution_count": null,
      "outputs": [
        {
          "output_type": "execute_result",
          "data": {
            "text/plain": [
              "(3019, 1)"
            ]
          },
          "metadata": {},
          "execution_count": 956
        }
      ]
    },
    {
      "cell_type": "code",
      "source": [
        "d['pred'] = pred"
      ],
      "metadata": {
        "id": "5Vr3VgqRK5Dv"
      },
      "id": "5Vr3VgqRK5Dv",
      "execution_count": null,
      "outputs": []
    },
    {
      "cell_type": "code",
      "source": [
        "d.head()"
      ],
      "metadata": {
        "colab": {
          "base_uri": "https://localhost:8080/",
          "height": 237
        },
        "id": "GmbZtI7gPn1i",
        "outputId": "83b8d59b-25dc-42d1-8da8-37f8f49e6e60"
      },
      "id": "GmbZtI7gPn1i",
      "execution_count": null,
      "outputs": [
        {
          "output_type": "execute_result",
          "data": {
            "text/html": [
              "\n",
              "  <div id=\"df-5105d2ca-7625-4257-b251-17a9442f80a7\">\n",
              "    <div class=\"colab-df-container\">\n",
              "      <div>\n",
              "<style scoped>\n",
              "    .dataframe tbody tr th:only-of-type {\n",
              "        vertical-align: middle;\n",
              "    }\n",
              "\n",
              "    .dataframe tbody tr th {\n",
              "        vertical-align: top;\n",
              "    }\n",
              "\n",
              "    .dataframe thead th {\n",
              "        text-align: right;\n",
              "    }\n",
              "</style>\n",
              "<table border=\"1\" class=\"dataframe\">\n",
              "  <thead>\n",
              "    <tr style=\"text-align: right;\">\n",
              "      <th></th>\n",
              "      <th>Close</th>\n",
              "      <th>pred</th>\n",
              "    </tr>\n",
              "    <tr>\n",
              "      <th>Date</th>\n",
              "      <th></th>\n",
              "      <th></th>\n",
              "    </tr>\n",
              "  </thead>\n",
              "  <tbody>\n",
              "    <tr>\n",
              "      <th>2008-12-18</th>\n",
              "      <td>5,683.75</td>\n",
              "      <td>0.163298</td>\n",
              "    </tr>\n",
              "    <tr>\n",
              "      <th>2008-12-19</th>\n",
              "      <td>5,503.21</td>\n",
              "      <td>0.162374</td>\n",
              "    </tr>\n",
              "    <tr>\n",
              "      <th>2008-12-22</th>\n",
              "      <td>5,300.29</td>\n",
              "      <td>0.161247</td>\n",
              "    </tr>\n",
              "    <tr>\n",
              "      <th>2008-12-23</th>\n",
              "      <td>5,097.14</td>\n",
              "      <td>0.159875</td>\n",
              "    </tr>\n",
              "    <tr>\n",
              "      <th>2008-12-24</th>\n",
              "      <td>4,920.50</td>\n",
              "      <td>0.158249</td>\n",
              "    </tr>\n",
              "  </tbody>\n",
              "</table>\n",
              "</div>\n",
              "      <button class=\"colab-df-convert\" onclick=\"convertToInteractive('df-5105d2ca-7625-4257-b251-17a9442f80a7')\"\n",
              "              title=\"Convert this dataframe to an interactive table.\"\n",
              "              style=\"display:none;\">\n",
              "        \n",
              "  <svg xmlns=\"http://www.w3.org/2000/svg\" height=\"24px\"viewBox=\"0 0 24 24\"\n",
              "       width=\"24px\">\n",
              "    <path d=\"M0 0h24v24H0V0z\" fill=\"none\"/>\n",
              "    <path d=\"M18.56 5.44l.94 2.06.94-2.06 2.06-.94-2.06-.94-.94-2.06-.94 2.06-2.06.94zm-11 1L8.5 8.5l.94-2.06 2.06-.94-2.06-.94L8.5 2.5l-.94 2.06-2.06.94zm10 10l.94 2.06.94-2.06 2.06-.94-2.06-.94-.94-2.06-.94 2.06-2.06.94z\"/><path d=\"M17.41 7.96l-1.37-1.37c-.4-.4-.92-.59-1.43-.59-.52 0-1.04.2-1.43.59L10.3 9.45l-7.72 7.72c-.78.78-.78 2.05 0 2.83L4 21.41c.39.39.9.59 1.41.59.51 0 1.02-.2 1.41-.59l7.78-7.78 2.81-2.81c.8-.78.8-2.07 0-2.86zM5.41 20L4 18.59l7.72-7.72 1.47 1.35L5.41 20z\"/>\n",
              "  </svg>\n",
              "      </button>\n",
              "      \n",
              "  <style>\n",
              "    .colab-df-container {\n",
              "      display:flex;\n",
              "      flex-wrap:wrap;\n",
              "      gap: 12px;\n",
              "    }\n",
              "\n",
              "    .colab-df-convert {\n",
              "      background-color: #E8F0FE;\n",
              "      border: none;\n",
              "      border-radius: 50%;\n",
              "      cursor: pointer;\n",
              "      display: none;\n",
              "      fill: #1967D2;\n",
              "      height: 32px;\n",
              "      padding: 0 0 0 0;\n",
              "      width: 32px;\n",
              "    }\n",
              "\n",
              "    .colab-df-convert:hover {\n",
              "      background-color: #E2EBFA;\n",
              "      box-shadow: 0px 1px 2px rgba(60, 64, 67, 0.3), 0px 1px 3px 1px rgba(60, 64, 67, 0.15);\n",
              "      fill: #174EA6;\n",
              "    }\n",
              "\n",
              "    [theme=dark] .colab-df-convert {\n",
              "      background-color: #3B4455;\n",
              "      fill: #D2E3FC;\n",
              "    }\n",
              "\n",
              "    [theme=dark] .colab-df-convert:hover {\n",
              "      background-color: #434B5C;\n",
              "      box-shadow: 0px 1px 3px 1px rgba(0, 0, 0, 0.15);\n",
              "      filter: drop-shadow(0px 1px 2px rgba(0, 0, 0, 0.3));\n",
              "      fill: #FFFFFF;\n",
              "    }\n",
              "  </style>\n",
              "\n",
              "      <script>\n",
              "        const buttonEl =\n",
              "          document.querySelector('#df-5105d2ca-7625-4257-b251-17a9442f80a7 button.colab-df-convert');\n",
              "        buttonEl.style.display =\n",
              "          google.colab.kernel.accessAllowed ? 'block' : 'none';\n",
              "\n",
              "        async function convertToInteractive(key) {\n",
              "          const element = document.querySelector('#df-5105d2ca-7625-4257-b251-17a9442f80a7');\n",
              "          const dataTable =\n",
              "            await google.colab.kernel.invokeFunction('convertToInteractive',\n",
              "                                                     [key], {});\n",
              "          if (!dataTable) return;\n",
              "\n",
              "          const docLinkHtml = 'Like what you see? Visit the ' +\n",
              "            '<a target=\"_blank\" href=https://colab.research.google.com/notebooks/data_table.ipynb>data table notebook</a>'\n",
              "            + ' to learn more about interactive tables.';\n",
              "          element.innerHTML = '';\n",
              "          dataTable['output_type'] = 'display_data';\n",
              "          await google.colab.output.renderOutput(dataTable, element);\n",
              "          const docLink = document.createElement('div');\n",
              "          docLink.innerHTML = docLinkHtml;\n",
              "          element.appendChild(docLink);\n",
              "        }\n",
              "      </script>\n",
              "    </div>\n",
              "  </div>\n",
              "  "
            ],
            "text/plain": [
              "               Close      pred\n",
              "Date                          \n",
              "2008-12-18  5,683.75  0.163298\n",
              "2008-12-19  5,503.21  0.162374\n",
              "2008-12-22  5,300.29  0.161247\n",
              "2008-12-23  5,097.14  0.159875\n",
              "2008-12-24  4,920.50  0.158249"
            ]
          },
          "metadata": {},
          "execution_count": 958
        }
      ]
    },
    {
      "cell_type": "code",
      "source": [
        "d['Close']= [float(str(i).replace(\",\", \"\")) for i in d['Close']]\n",
        "d['Close'].astype(float)\n"
      ],
      "metadata": {
        "colab": {
          "base_uri": "https://localhost:8080/"
        },
        "id": "T6IDYuhUcweL",
        "outputId": "3a668ce4-d08e-46c2-b6ee-499792eb5d8e"
      },
      "id": "T6IDYuhUcweL",
      "execution_count": null,
      "outputs": [
        {
          "output_type": "execute_result",
          "data": {
            "text/plain": [
              "Date\n",
              "2008-12-18     5683.75\n",
              "2008-12-19     5503.21\n",
              "2008-12-22     5300.29\n",
              "2008-12-23     5097.14\n",
              "2008-12-24     4920.50\n",
              "                ...   \n",
              "2021-02-17    32048.68\n",
              "2021-02-18    31759.82\n",
              "2021-02-19    31851.18\n",
              "2021-02-22    31647.57\n",
              "2021-02-23    31626.19\n",
              "Name: Close, Length: 3019, dtype: float64"
            ]
          },
          "metadata": {},
          "execution_count": 959
        }
      ]
    },
    {
      "cell_type": "code",
      "source": [
        "d"
      ],
      "metadata": {
        "colab": {
          "base_uri": "https://localhost:8080/",
          "height": 455
        },
        "id": "hPZ4XAEnW4pw",
        "outputId": "129080ef-38f7-4173-85b8-5e4d78124af7"
      },
      "id": "hPZ4XAEnW4pw",
      "execution_count": null,
      "outputs": [
        {
          "output_type": "execute_result",
          "data": {
            "text/html": [
              "\n",
              "  <div id=\"df-6773b561-b514-489b-86fb-e65ced611f27\">\n",
              "    <div class=\"colab-df-container\">\n",
              "      <div>\n",
              "<style scoped>\n",
              "    .dataframe tbody tr th:only-of-type {\n",
              "        vertical-align: middle;\n",
              "    }\n",
              "\n",
              "    .dataframe tbody tr th {\n",
              "        vertical-align: top;\n",
              "    }\n",
              "\n",
              "    .dataframe thead th {\n",
              "        text-align: right;\n",
              "    }\n",
              "</style>\n",
              "<table border=\"1\" class=\"dataframe\">\n",
              "  <thead>\n",
              "    <tr style=\"text-align: right;\">\n",
              "      <th></th>\n",
              "      <th>Close</th>\n",
              "      <th>pred</th>\n",
              "    </tr>\n",
              "    <tr>\n",
              "      <th>Date</th>\n",
              "      <th></th>\n",
              "      <th></th>\n",
              "    </tr>\n",
              "  </thead>\n",
              "  <tbody>\n",
              "    <tr>\n",
              "      <th>2008-12-18</th>\n",
              "      <td>5683.75</td>\n",
              "      <td>0.163298</td>\n",
              "    </tr>\n",
              "    <tr>\n",
              "      <th>2008-12-19</th>\n",
              "      <td>5503.21</td>\n",
              "      <td>0.162374</td>\n",
              "    </tr>\n",
              "    <tr>\n",
              "      <th>2008-12-22</th>\n",
              "      <td>5300.29</td>\n",
              "      <td>0.161247</td>\n",
              "    </tr>\n",
              "    <tr>\n",
              "      <th>2008-12-23</th>\n",
              "      <td>5097.14</td>\n",
              "      <td>0.159875</td>\n",
              "    </tr>\n",
              "    <tr>\n",
              "      <th>2008-12-24</th>\n",
              "      <td>4920.50</td>\n",
              "      <td>0.158249</td>\n",
              "    </tr>\n",
              "    <tr>\n",
              "      <th>...</th>\n",
              "      <td>...</td>\n",
              "      <td>...</td>\n",
              "    </tr>\n",
              "    <tr>\n",
              "      <th>2021-02-17</th>\n",
              "      <td>32048.68</td>\n",
              "      <td>0.845035</td>\n",
              "    </tr>\n",
              "    <tr>\n",
              "      <th>2021-02-18</th>\n",
              "      <td>31759.82</td>\n",
              "      <td>0.845356</td>\n",
              "    </tr>\n",
              "    <tr>\n",
              "      <th>2021-02-19</th>\n",
              "      <td>31851.18</td>\n",
              "      <td>0.845576</td>\n",
              "    </tr>\n",
              "    <tr>\n",
              "      <th>2021-02-22</th>\n",
              "      <td>31647.57</td>\n",
              "      <td>0.845700</td>\n",
              "    </tr>\n",
              "    <tr>\n",
              "      <th>2021-02-23</th>\n",
              "      <td>31626.19</td>\n",
              "      <td>0.845733</td>\n",
              "    </tr>\n",
              "  </tbody>\n",
              "</table>\n",
              "<p>3019 rows × 2 columns</p>\n",
              "</div>\n",
              "      <button class=\"colab-df-convert\" onclick=\"convertToInteractive('df-6773b561-b514-489b-86fb-e65ced611f27')\"\n",
              "              title=\"Convert this dataframe to an interactive table.\"\n",
              "              style=\"display:none;\">\n",
              "        \n",
              "  <svg xmlns=\"http://www.w3.org/2000/svg\" height=\"24px\"viewBox=\"0 0 24 24\"\n",
              "       width=\"24px\">\n",
              "    <path d=\"M0 0h24v24H0V0z\" fill=\"none\"/>\n",
              "    <path d=\"M18.56 5.44l.94 2.06.94-2.06 2.06-.94-2.06-.94-.94-2.06-.94 2.06-2.06.94zm-11 1L8.5 8.5l.94-2.06 2.06-.94-2.06-.94L8.5 2.5l-.94 2.06-2.06.94zm10 10l.94 2.06.94-2.06 2.06-.94-2.06-.94-.94-2.06-.94 2.06-2.06.94z\"/><path d=\"M17.41 7.96l-1.37-1.37c-.4-.4-.92-.59-1.43-.59-.52 0-1.04.2-1.43.59L10.3 9.45l-7.72 7.72c-.78.78-.78 2.05 0 2.83L4 21.41c.39.39.9.59 1.41.59.51 0 1.02-.2 1.41-.59l7.78-7.78 2.81-2.81c.8-.78.8-2.07 0-2.86zM5.41 20L4 18.59l7.72-7.72 1.47 1.35L5.41 20z\"/>\n",
              "  </svg>\n",
              "      </button>\n",
              "      \n",
              "  <style>\n",
              "    .colab-df-container {\n",
              "      display:flex;\n",
              "      flex-wrap:wrap;\n",
              "      gap: 12px;\n",
              "    }\n",
              "\n",
              "    .colab-df-convert {\n",
              "      background-color: #E8F0FE;\n",
              "      border: none;\n",
              "      border-radius: 50%;\n",
              "      cursor: pointer;\n",
              "      display: none;\n",
              "      fill: #1967D2;\n",
              "      height: 32px;\n",
              "      padding: 0 0 0 0;\n",
              "      width: 32px;\n",
              "    }\n",
              "\n",
              "    .colab-df-convert:hover {\n",
              "      background-color: #E2EBFA;\n",
              "      box-shadow: 0px 1px 2px rgba(60, 64, 67, 0.3), 0px 1px 3px 1px rgba(60, 64, 67, 0.15);\n",
              "      fill: #174EA6;\n",
              "    }\n",
              "\n",
              "    [theme=dark] .colab-df-convert {\n",
              "      background-color: #3B4455;\n",
              "      fill: #D2E3FC;\n",
              "    }\n",
              "\n",
              "    [theme=dark] .colab-df-convert:hover {\n",
              "      background-color: #434B5C;\n",
              "      box-shadow: 0px 1px 3px 1px rgba(0, 0, 0, 0.15);\n",
              "      filter: drop-shadow(0px 1px 2px rgba(0, 0, 0, 0.3));\n",
              "      fill: #FFFFFF;\n",
              "    }\n",
              "  </style>\n",
              "\n",
              "      <script>\n",
              "        const buttonEl =\n",
              "          document.querySelector('#df-6773b561-b514-489b-86fb-e65ced611f27 button.colab-df-convert');\n",
              "        buttonEl.style.display =\n",
              "          google.colab.kernel.accessAllowed ? 'block' : 'none';\n",
              "\n",
              "        async function convertToInteractive(key) {\n",
              "          const element = document.querySelector('#df-6773b561-b514-489b-86fb-e65ced611f27');\n",
              "          const dataTable =\n",
              "            await google.colab.kernel.invokeFunction('convertToInteractive',\n",
              "                                                     [key], {});\n",
              "          if (!dataTable) return;\n",
              "\n",
              "          const docLinkHtml = 'Like what you see? Visit the ' +\n",
              "            '<a target=\"_blank\" href=https://colab.research.google.com/notebooks/data_table.ipynb>data table notebook</a>'\n",
              "            + ' to learn more about interactive tables.';\n",
              "          element.innerHTML = '';\n",
              "          dataTable['output_type'] = 'display_data';\n",
              "          await google.colab.output.renderOutput(dataTable, element);\n",
              "          const docLink = document.createElement('div');\n",
              "          docLink.innerHTML = docLinkHtml;\n",
              "          element.appendChild(docLink);\n",
              "        }\n",
              "      </script>\n",
              "    </div>\n",
              "  </div>\n",
              "  "
            ],
            "text/plain": [
              "               Close      pred\n",
              "Date                          \n",
              "2008-12-18   5683.75  0.163298\n",
              "2008-12-19   5503.21  0.162374\n",
              "2008-12-22   5300.29  0.161247\n",
              "2008-12-23   5097.14  0.159875\n",
              "2008-12-24   4920.50  0.158249\n",
              "...              ...       ...\n",
              "2021-02-17  32048.68  0.845035\n",
              "2021-02-18  31759.82  0.845356\n",
              "2021-02-19  31851.18  0.845576\n",
              "2021-02-22  31647.57  0.845700\n",
              "2021-02-23  31626.19  0.845733\n",
              "\n",
              "[3019 rows x 2 columns]"
            ]
          },
          "metadata": {},
          "execution_count": 960
        }
      ]
    },
    {
      "cell_type": "code",
      "source": [
        "original_close = d[['Close']]"
      ],
      "metadata": {
        "id": "vCxPYHZqdNVX"
      },
      "id": "vCxPYHZqdNVX",
      "execution_count": null,
      "outputs": []
    },
    {
      "cell_type": "code",
      "source": [
        "scaler = MinMaxScaler(feature_range=(0, 1))\n",
        "original_close = scaler.fit_transform(original_close)\n"
      ],
      "metadata": {
        "id": "kqUpe-Vqfvdk"
      },
      "id": "kqUpe-Vqfvdk",
      "execution_count": null,
      "outputs": []
    },
    {
      "cell_type": "code",
      "source": [
        "original_close"
      ],
      "metadata": {
        "colab": {
          "base_uri": "https://localhost:8080/"
        },
        "id": "J3qHDc4fgfwy",
        "outputId": "9c561ceb-3cb8-4a20-df89-883d133e2f1d"
      },
      "id": "J3qHDc4fgfwy",
      "execution_count": null,
      "outputs": [
        {
          "output_type": "execute_result",
          "data": {
            "text/plain": [
              "array([[0.06249866],\n",
              "       [0.05695843],\n",
              "       [0.05073142],\n",
              "       ...,\n",
              "       [0.86549831],\n",
              "       [0.85925013],\n",
              "       [0.85859404]])"
            ]
          },
          "metadata": {},
          "execution_count": 963
        }
      ]
    },
    {
      "cell_type": "code",
      "source": [
        "d['scaled_close'] = original_close"
      ],
      "metadata": {
        "id": "J9lLScjki14l"
      },
      "id": "J9lLScjki14l",
      "execution_count": null,
      "outputs": []
    },
    {
      "cell_type": "code",
      "source": [
        "train_p = d.iloc[:2093,]\n",
        "test_p = d.iloc[2093:]"
      ],
      "metadata": {
        "id": "jfITUO_aQELF"
      },
      "id": "jfITUO_aQELF",
      "execution_count": null,
      "outputs": []
    },
    {
      "cell_type": "code",
      "source": [
        "train_p"
      ],
      "metadata": {
        "colab": {
          "base_uri": "https://localhost:8080/",
          "height": 455
        },
        "id": "mnYN2yijRWX9",
        "outputId": "981f7198-d591-4742-816a-7abd393314c6"
      },
      "id": "mnYN2yijRWX9",
      "execution_count": null,
      "outputs": [
        {
          "output_type": "execute_result",
          "data": {
            "text/html": [
              "\n",
              "  <div id=\"df-b3b8be9b-0adc-4de8-b650-6a7d1eea3623\">\n",
              "    <div class=\"colab-df-container\">\n",
              "      <div>\n",
              "<style scoped>\n",
              "    .dataframe tbody tr th:only-of-type {\n",
              "        vertical-align: middle;\n",
              "    }\n",
              "\n",
              "    .dataframe tbody tr th {\n",
              "        vertical-align: top;\n",
              "    }\n",
              "\n",
              "    .dataframe thead th {\n",
              "        text-align: right;\n",
              "    }\n",
              "</style>\n",
              "<table border=\"1\" class=\"dataframe\">\n",
              "  <thead>\n",
              "    <tr style=\"text-align: right;\">\n",
              "      <th></th>\n",
              "      <th>Close</th>\n",
              "      <th>pred</th>\n",
              "      <th>scaled_close</th>\n",
              "    </tr>\n",
              "    <tr>\n",
              "      <th>Date</th>\n",
              "      <th></th>\n",
              "      <th></th>\n",
              "      <th></th>\n",
              "    </tr>\n",
              "  </thead>\n",
              "  <tbody>\n",
              "    <tr>\n",
              "      <th>2008-12-18</th>\n",
              "      <td>5683.75</td>\n",
              "      <td>0.163298</td>\n",
              "      <td>0.062499</td>\n",
              "    </tr>\n",
              "    <tr>\n",
              "      <th>2008-12-19</th>\n",
              "      <td>5503.21</td>\n",
              "      <td>0.162374</td>\n",
              "      <td>0.056958</td>\n",
              "    </tr>\n",
              "    <tr>\n",
              "      <th>2008-12-22</th>\n",
              "      <td>5300.29</td>\n",
              "      <td>0.161247</td>\n",
              "      <td>0.050731</td>\n",
              "    </tr>\n",
              "    <tr>\n",
              "      <th>2008-12-23</th>\n",
              "      <td>5097.14</td>\n",
              "      <td>0.159875</td>\n",
              "      <td>0.044497</td>\n",
              "    </tr>\n",
              "    <tr>\n",
              "      <th>2008-12-24</th>\n",
              "      <td>4920.50</td>\n",
              "      <td>0.158249</td>\n",
              "      <td>0.039077</td>\n",
              "    </tr>\n",
              "    <tr>\n",
              "      <th>...</th>\n",
              "      <td>...</td>\n",
              "      <td>...</td>\n",
              "      <td>...</td>\n",
              "    </tr>\n",
              "    <tr>\n",
              "      <th>2017-05-23</th>\n",
              "      <td>35863.66</td>\n",
              "      <td>0.893801</td>\n",
              "      <td>0.988629</td>\n",
              "    </tr>\n",
              "    <tr>\n",
              "      <th>2017-05-24</th>\n",
              "      <td>36234.20</td>\n",
              "      <td>0.896338</td>\n",
              "      <td>1.000000</td>\n",
              "    </tr>\n",
              "    <tr>\n",
              "      <th>2017-05-25</th>\n",
              "      <td>36224.38</td>\n",
              "      <td>0.898813</td>\n",
              "      <td>0.999699</td>\n",
              "    </tr>\n",
              "    <tr>\n",
              "      <th>2017-05-26</th>\n",
              "      <td>36130.33</td>\n",
              "      <td>0.901252</td>\n",
              "      <td>0.996813</td>\n",
              "    </tr>\n",
              "    <tr>\n",
              "      <th>2017-05-29</th>\n",
              "      <td>35900.75</td>\n",
              "      <td>0.903677</td>\n",
              "      <td>0.989767</td>\n",
              "    </tr>\n",
              "  </tbody>\n",
              "</table>\n",
              "<p>2093 rows × 3 columns</p>\n",
              "</div>\n",
              "      <button class=\"colab-df-convert\" onclick=\"convertToInteractive('df-b3b8be9b-0adc-4de8-b650-6a7d1eea3623')\"\n",
              "              title=\"Convert this dataframe to an interactive table.\"\n",
              "              style=\"display:none;\">\n",
              "        \n",
              "  <svg xmlns=\"http://www.w3.org/2000/svg\" height=\"24px\"viewBox=\"0 0 24 24\"\n",
              "       width=\"24px\">\n",
              "    <path d=\"M0 0h24v24H0V0z\" fill=\"none\"/>\n",
              "    <path d=\"M18.56 5.44l.94 2.06.94-2.06 2.06-.94-2.06-.94-.94-2.06-.94 2.06-2.06.94zm-11 1L8.5 8.5l.94-2.06 2.06-.94-2.06-.94L8.5 2.5l-.94 2.06-2.06.94zm10 10l.94 2.06.94-2.06 2.06-.94-2.06-.94-.94-2.06-.94 2.06-2.06.94z\"/><path d=\"M17.41 7.96l-1.37-1.37c-.4-.4-.92-.59-1.43-.59-.52 0-1.04.2-1.43.59L10.3 9.45l-7.72 7.72c-.78.78-.78 2.05 0 2.83L4 21.41c.39.39.9.59 1.41.59.51 0 1.02-.2 1.41-.59l7.78-7.78 2.81-2.81c.8-.78.8-2.07 0-2.86zM5.41 20L4 18.59l7.72-7.72 1.47 1.35L5.41 20z\"/>\n",
              "  </svg>\n",
              "      </button>\n",
              "      \n",
              "  <style>\n",
              "    .colab-df-container {\n",
              "      display:flex;\n",
              "      flex-wrap:wrap;\n",
              "      gap: 12px;\n",
              "    }\n",
              "\n",
              "    .colab-df-convert {\n",
              "      background-color: #E8F0FE;\n",
              "      border: none;\n",
              "      border-radius: 50%;\n",
              "      cursor: pointer;\n",
              "      display: none;\n",
              "      fill: #1967D2;\n",
              "      height: 32px;\n",
              "      padding: 0 0 0 0;\n",
              "      width: 32px;\n",
              "    }\n",
              "\n",
              "    .colab-df-convert:hover {\n",
              "      background-color: #E2EBFA;\n",
              "      box-shadow: 0px 1px 2px rgba(60, 64, 67, 0.3), 0px 1px 3px 1px rgba(60, 64, 67, 0.15);\n",
              "      fill: #174EA6;\n",
              "    }\n",
              "\n",
              "    [theme=dark] .colab-df-convert {\n",
              "      background-color: #3B4455;\n",
              "      fill: #D2E3FC;\n",
              "    }\n",
              "\n",
              "    [theme=dark] .colab-df-convert:hover {\n",
              "      background-color: #434B5C;\n",
              "      box-shadow: 0px 1px 3px 1px rgba(0, 0, 0, 0.15);\n",
              "      filter: drop-shadow(0px 1px 2px rgba(0, 0, 0, 0.3));\n",
              "      fill: #FFFFFF;\n",
              "    }\n",
              "  </style>\n",
              "\n",
              "      <script>\n",
              "        const buttonEl =\n",
              "          document.querySelector('#df-b3b8be9b-0adc-4de8-b650-6a7d1eea3623 button.colab-df-convert');\n",
              "        buttonEl.style.display =\n",
              "          google.colab.kernel.accessAllowed ? 'block' : 'none';\n",
              "\n",
              "        async function convertToInteractive(key) {\n",
              "          const element = document.querySelector('#df-b3b8be9b-0adc-4de8-b650-6a7d1eea3623');\n",
              "          const dataTable =\n",
              "            await google.colab.kernel.invokeFunction('convertToInteractive',\n",
              "                                                     [key], {});\n",
              "          if (!dataTable) return;\n",
              "\n",
              "          const docLinkHtml = 'Like what you see? Visit the ' +\n",
              "            '<a target=\"_blank\" href=https://colab.research.google.com/notebooks/data_table.ipynb>data table notebook</a>'\n",
              "            + ' to learn more about interactive tables.';\n",
              "          element.innerHTML = '';\n",
              "          dataTable['output_type'] = 'display_data';\n",
              "          await google.colab.output.renderOutput(dataTable, element);\n",
              "          const docLink = document.createElement('div');\n",
              "          docLink.innerHTML = docLinkHtml;\n",
              "          element.appendChild(docLink);\n",
              "        }\n",
              "      </script>\n",
              "    </div>\n",
              "  </div>\n",
              "  "
            ],
            "text/plain": [
              "               Close      pred  scaled_close\n",
              "Date                                        \n",
              "2008-12-18   5683.75  0.163298      0.062499\n",
              "2008-12-19   5503.21  0.162374      0.056958\n",
              "2008-12-22   5300.29  0.161247      0.050731\n",
              "2008-12-23   5097.14  0.159875      0.044497\n",
              "2008-12-24   4920.50  0.158249      0.039077\n",
              "...              ...       ...           ...\n",
              "2017-05-23  35863.66  0.893801      0.988629\n",
              "2017-05-24  36234.20  0.896338      1.000000\n",
              "2017-05-25  36224.38  0.898813      0.999699\n",
              "2017-05-26  36130.33  0.901252      0.996813\n",
              "2017-05-29  35900.75  0.903677      0.989767\n",
              "\n",
              "[2093 rows x 3 columns]"
            ]
          },
          "metadata": {},
          "execution_count": 969
        }
      ]
    },
    {
      "cell_type": "code",
      "source": [
        "plt.figure(figsize=(16,10))\n",
        "plt.grid(True)\n",
        "plt.xlabel('Date')\n",
        "plt.ylabel('Closing Prices')\n",
        "plt.plot(train_p['scaled_close'], 'red', label='Train data')\n",
        "plt.plot(test_p['scaled_close'], 'blue', label='Test data')\n",
        "\n",
        "plt.legend()"
      ],
      "metadata": {
        "colab": {
          "base_uri": "https://localhost:8080/",
          "height": 671
        },
        "id": "flNoGE5M3Kha",
        "outputId": "92068847-234c-412f-fe47-2adf27585151"
      },
      "id": "flNoGE5M3Kha",
      "execution_count": null,
      "outputs": [
        {
          "output_type": "execute_result",
          "data": {
            "text/plain": [
              "<matplotlib.legend.Legend at 0x7fb219dfcb10>"
            ]
          },
          "metadata": {},
          "execution_count": 970
        },
        {
          "output_type": "display_data",
          "data": {
            "image/png": "[encoded data removed]",
            "text/plain": [
              "<Figure size 1152x720 with 1 Axes>"
            ]
          },
          "metadata": {}
        }
      ]
    },
    {
      "cell_type": "code",
      "source": [
        "plt.figure(figsize=(16,10))\n",
        "plt.grid(True)\n",
        "plt.xlabel('Dates')\n",
        "plt.ylabel('Closing Prices')\n",
        "plt.plot(train_p['pred'], 'green', label='Pred_Train data')\n",
        "plt.plot(test_p['pred'], 'blue', label='Pred_Test data')\n",
        "plt.legend()"
      ],
      "metadata": {
        "colab": {
          "base_uri": "https://localhost:8080/",
          "height": 671
        },
        "id": "eHSLvp313rbP",
        "outputId": "ef166e7f-d26f-4528-dcec-78e71f3fc85e"
      },
      "id": "eHSLvp313rbP",
      "execution_count": null,
      "outputs": [
        {
          "output_type": "execute_result",
          "data": {
            "text/plain": [
              "<matplotlib.legend.Legend at 0x7fb219ea3dd0>"
            ]
          },
          "metadata": {},
          "execution_count": 971
        },
        {
          "output_type": "display_data",
          "data": {
            "image/png": "[encoded data removed]",
            "text/plain": [
              "<Figure size 1152x720 with 1 Axes>"
            ]
          },
          "metadata": {}
        }
      ]
    },
    {
      "cell_type": "code",
      "execution_count": null,
      "id": "b7091ba5",
      "metadata": {
        "colab": {
          "base_uri": "https://localhost:8080/",
          "height": 671
        },
        "id": "b7091ba5",
        "outputId": "8a7178b2-b195-453b-fb6d-a79cad4439cd"
      },
      "outputs": [
        {
          "output_type": "execute_result",
          "data": {
            "text/plain": [
              "<matplotlib.legend.Legend at 0x7fb219d9efd0>"
            ]
          },
          "metadata": {},
          "execution_count": 972
        },
        {
          "output_type": "display_data",
          "data": {
            "image/png": "[encoded data removed]",
            "text/plain": [
              "<Figure size 1152x720 with 1 Axes>"
            ]
          },
          "metadata": {}
        }
      ],
      "source": [
        "plt.figure(figsize=(16,10))\n",
        "plt.grid(True)\n",
        "plt.xlabel('Date')\n",
        "plt.ylabel('Closing Prices')\n",
        "plt.plot(train_p['scaled_close'], 'red', label='Train data')\n",
        "plt.plot(test_p['scaled_close'], 'green', label='Test data')\n",
        "plt.plot(train_p['pred'], 'blue', label='Pred_Train data')\n",
        "plt.plot(test_p['pred'], 'yellow', label='Pred_Test data')\n",
        "plt.legend()"
      ]
    },
    {
      "cell_type": "code",
      "source": [
        "from keras.layers.core import Dense, Activation, Flatten, Dropout\n",
        "from keras.layers import Conv1D, Conv2D, MaxPooling2D\n",
        "from sklearn import metrics\n",
        "from sklearn.model_selection import train_test_split\n",
        "from sklearn.metrics import mean_squared_error,r2_score\n",
        "from sklearn.preprocessing import MinMaxScaler\n",
        "import csv\n",
        "import collections\n",
        "from scipy.stats import zscore\n",
        "from datetime import datetime\n",
        "import matplotlib.pyplot as plt"
      ],
      "metadata": {
        "id": "UOEZuPsJqZcy"
      },
      "id": "UOEZuPsJqZcy",
      "execution_count": null,
      "outputs": []
    },
    {
      "cell_type": "code",
      "source": [
        "X_train.shape"
      ],
      "metadata": {
        "colab": {
          "base_uri": "https://localhost:8080/"
        },
        "id": "XW3t4j7ysWtU",
        "outputId": "90d4abe8-5575-46f6-942a-ab5a225f730a"
      },
      "id": "XW3t4j7ysWtU",
      "execution_count": null,
      "outputs": [
        {
          "output_type": "execute_result",
          "data": {
            "text/plain": [
              "(1992, 100, 1)"
            ]
          },
          "metadata": {},
          "execution_count": 974
        }
      ]
    },
    {
      "cell_type": "code",
      "source": [
        "cnn = Sequential()\n",
        "cnn.add(Conv1D(8, kernel_size = (1),  padding = 'valid', \n",
        "               activation = 'relu', input_shape = (100,1)))\n",
        "#cnn.add(MaxPooling2D(pool_size = (1)))\n",
        "\n",
        "cnn.add(Flatten())\n",
        "cnn.add(Dense(64, activation=\"relu\"))\n",
        "cnn.add(Dropout(0.5))\n",
        "cnn.add(Dense(1, activation=\"relu\"))\n",
        "cnn.summary()  "
      ],
      "metadata": {
        "colab": {
          "base_uri": "https://localhost:8080/"
        },
        "id": "DerOmjinmO0M",
        "outputId": "c9cbbb0d-b2f5-4569-f038-b4d6978dfe27"
      },
      "id": "DerOmjinmO0M",
      "execution_count": null,
      "outputs": [
        {
          "output_type": "stream",
          "name": "stdout",
          "text": [
            "Model: \"sequential_37\"\n",
            "_________________________________________________________________\n",
            " Layer (type)                Output Shape              Param #   \n",
            "=================================================================\n",
            " conv1d_14 (Conv1D)          (None, 100, 8)            16        \n",
            "                                                                 \n",
            " flatten_13 (Flatten)        (None, 800)               0         \n",
            "                                                                 \n",
            " dense_38 (Dense)            (None, 64)                51264     \n",
            "                                                                 \n",
            " dropout_16 (Dropout)        (None, 64)                0         \n",
            "                                                                 \n",
            " dense_39 (Dense)            (None, 1)                 65        \n",
            "                                                                 \n",
            "=================================================================\n",
            "Total params: 51,345\n",
            "Trainable params: 51,345\n",
            "Non-trainable params: 0\n",
            "_________________________________________________________________\n"
          ]
        }
      ]
    },
    {
      "cell_type": "code",
      "source": [
        "cnn.compile(loss='mean_squared_error', optimizer='adam')\n",
        "\n"
      ],
      "metadata": {
        "id": "EjrG7QddnyxD"
      },
      "id": "EjrG7QddnyxD",
      "execution_count": null,
      "outputs": []
    },
    {
      "cell_type": "code",
      "source": [
        "%%time\n",
        "cnn.fit(X_train,y_train,validation_data=(X_test,ytest),batch_size = 30,verbose=1,epochs = 10)"
      ],
      "metadata": {
        "colab": {
          "base_uri": "https://localhost:8080/"
        },
        "id": "gInw5fhXn9PN",
        "outputId": "cc67bafe-83e4-43bd-fba3-c0bb901c7171"
      },
      "id": "gInw5fhXn9PN",
      "execution_count": null,
      "outputs": [
        {
          "output_type": "stream",
          "name": "stdout",
          "text": [
            "Epoch 1/10\n",
            "67/67 [==============================] - 1s 5ms/step - loss: 0.0181 - val_loss: 0.0034\n",
            "Epoch 2/10\n",
            "67/67 [==============================] - 0s 3ms/step - loss: 0.0118 - val_loss: 0.0081\n",
            "Epoch 3/10\n",
            "67/67 [==============================] - 0s 3ms/step - loss: 0.0094 - val_loss: 0.0286\n",
            "Epoch 4/10\n",
            "67/67 [==============================] - 0s 3ms/step - loss: 0.0094 - val_loss: 0.0021\n",
            "Epoch 5/10\n",
            "67/67 [==============================] - 0s 3ms/step - loss: 0.0079 - val_loss: 0.0064\n",
            "Epoch 6/10\n",
            "67/67 [==============================] - 0s 3ms/step - loss: 0.0079 - val_loss: 0.0080\n",
            "Epoch 7/10\n",
            "67/67 [==============================] - 0s 3ms/step - loss: 0.0066 - val_loss: 0.0022\n",
            "Epoch 8/10\n",
            "67/67 [==============================] - 0s 3ms/step - loss: 0.0063 - val_loss: 0.0024\n",
            "Epoch 9/10\n",
            "67/67 [==============================] - 0s 3ms/step - loss: 0.0059 - val_loss: 0.0015\n",
            "Epoch 10/10\n",
            "67/67 [==============================] - 0s 3ms/step - loss: 0.0057 - val_loss: 0.0032\n",
            "CPU times: user 3.11 s, sys: 203 ms, total: 3.32 s\n",
            "Wall time: 2.86 s\n"
          ]
        },
        {
          "output_type": "execute_result",
          "data": {
            "text/plain": [
              "<keras.callbacks.History at 0x7fb219d39910>"
            ]
          },
          "metadata": {},
          "execution_count": 977
        }
      ]
    },
    {
      "cell_type": "code",
      "source": [
        "X_test.shape"
      ],
      "metadata": {
        "colab": {
          "base_uri": "https://localhost:8080/"
        },
        "id": "9dPKXIuNsvbX",
        "outputId": "7f02153b-8c9f-4eca-bd1e-6f96638bd17b"
      },
      "id": "9dPKXIuNsvbX",
      "execution_count": null,
      "outputs": [
        {
          "output_type": "execute_result",
          "data": {
            "text/plain": [
              "(1027, 100, 1)"
            ]
          },
          "metadata": {},
          "execution_count": 978
        }
      ]
    },
    {
      "cell_type": "code",
      "source": [
        "pred = cnn.predict(X_test)\n",
        "train_predict=cnn.predict(X_train)"
      ],
      "metadata": {
        "id": "XEA54137oAvv"
      },
      "id": "XEA54137oAvv",
      "execution_count": null,
      "outputs": []
    },
    {
      "cell_type": "code",
      "source": [
        "score = np.sqrt(metrics.mean_squared_error(ytest, pred))\n",
        "print(\"TEST RMSE Score: {}\".format(score))"
      ],
      "metadata": {
        "colab": {
          "base_uri": "https://localhost:8080/"
        },
        "id": "4L8P7mYTrUo2",
        "outputId": "27d75695-202c-47c7-ac05-a4ca9db2f603"
      },
      "id": "4L8P7mYTrUo2",
      "execution_count": null,
      "outputs": [
        {
          "output_type": "stream",
          "name": "stdout",
          "text": [
            "TEST RMSE Score: 0.05679761726361722\n"
          ]
        }
      ]
    },
    {
      "cell_type": "code",
      "source": [
        "score = np.sqrt(metrics.mean_squared_error(y_train, train_predict))\n",
        "print(\"TRAIN RMSE Score: {}\".format(score))"
      ],
      "metadata": {
        "colab": {
          "base_uri": "https://localhost:8080/"
        },
        "id": "zMIu6nlRv31a",
        "outputId": "f1957300-fd33-41f2-a4e0-d73e4f6c63a6"
      },
      "id": "zMIu6nlRv31a",
      "execution_count": null,
      "outputs": [
        {
          "output_type": "stream",
          "name": "stdout",
          "text": [
            "TRAIN RMSE Score: 0.023780936966928738\n"
          ]
        }
      ]
    },
    {
      "cell_type": "code",
      "source": [
        "import sklearn.metrics as sm\n",
        "sm.r2_score(ytest, pred)"
      ],
      "metadata": {
        "colab": {
          "base_uri": "https://localhost:8080/"
        },
        "id": "AgjonSzvv3wF",
        "outputId": "d84b74da-cb0e-4503-888f-0171fcf69764"
      },
      "id": "AgjonSzvv3wF",
      "execution_count": null,
      "outputs": [
        {
          "output_type": "execute_result",
          "data": {
            "text/plain": [
              "0.6644550590443036"
            ]
          },
          "metadata": {},
          "execution_count": 982
        }
      ]
    },
    {
      "cell_type": "code",
      "source": [
        "import sklearn.metrics as sm\n",
        "sm.r2_score(y_train, train_predict)"
      ],
      "metadata": {
        "colab": {
          "base_uri": "https://localhost:8080/"
        },
        "id": "LthjPUVM0JK4",
        "outputId": "0a1f6fbc-8e9c-4119-dfcd-041d5e4405dd"
      },
      "id": "LthjPUVM0JK4",
      "execution_count": null,
      "outputs": [
        {
          "output_type": "execute_result",
          "data": {
            "text/plain": [
              "0.9881038501624942"
            ]
          },
          "metadata": {},
          "execution_count": 983
        }
      ]
    },
    {
      "cell_type": "code",
      "source": [
        "sm.mean_absolute_percentage_error(ytest, pred)"
      ],
      "metadata": {
        "colab": {
          "base_uri": "https://localhost:8080/"
        },
        "id": "LnkvQ6k7v3pb",
        "outputId": "bcdf9910-6a35-4930-a0f2-42fcd475a7f7"
      },
      "id": "LnkvQ6k7v3pb",
      "execution_count": null,
      "outputs": [
        {
          "output_type": "execute_result",
          "data": {
            "text/plain": [
              "0.06053831867426095"
            ]
          },
          "metadata": {},
          "execution_count": 984
        }
      ]
    },
    {
      "cell_type": "code",
      "source": [
        "sm.mean_absolute_percentage_error(y_train, train_predict)"
      ],
      "metadata": {
        "colab": {
          "base_uri": "https://localhost:8080/"
        },
        "id": "FuodUGPU0POR",
        "outputId": "01ec12b5-c7a4-4ae7-8cb8-82c6f059bd22"
      },
      "id": "FuodUGPU0POR",
      "execution_count": null,
      "outputs": [
        {
          "output_type": "execute_result",
          "data": {
            "text/plain": [
              "167972105335.45905"
            ]
          },
          "metadata": {},
          "execution_count": 985
        }
      ]
    },
    {
      "cell_type": "code",
      "source": [
        "pred"
      ],
      "metadata": {
        "colab": {
          "base_uri": "https://localhost:8080/"
        },
        "id": "71efS8MGvoyt",
        "outputId": "fe5a284d-8ed8-4192-b6ec-00413f376255"
      },
      "id": "71efS8MGvoyt",
      "execution_count": null,
      "outputs": [
        {
          "output_type": "execute_result",
          "data": {
            "text/plain": [
              "array([[0.7892006 ],\n",
              "       [0.7910659 ],\n",
              "       [0.7946449 ],\n",
              "       ...,\n",
              "       [0.79728824],\n",
              "       [0.7998149 ],\n",
              "       [0.800483  ]], dtype=float32)"
            ]
          },
          "metadata": {},
          "execution_count": 986
        }
      ]
    },
    {
      "cell_type": "code",
      "source": [
        "plt.figure(figsize=(15,15))\n",
        "\n",
        "plt.plot(ytest, label = 'actual')\n",
        "plt.plot(pred,   label = 'predicted')\n",
        "plt.legend()\n",
        "plt.show()"
      ],
      "metadata": {
        "colab": {
          "base_uri": "https://localhost:8080/",
          "height": 922
        },
        "id": "FqhA6mYZrXvC",
        "outputId": "64e86c78-1ed0-4ff9-cf8c-db42238aeb76"
      },
      "id": "FqhA6mYZrXvC",
      "execution_count": null,
      "outputs": [
        {
          "output_type": "display_data",
          "data": {
            "image/png": "[encoded data removed]",
            "text/plain": [
              "<Figure size 1080x1080 with 1 Axes>"
            ]
          },
          "metadata": {}
        }
      ]
    },
    {
      "cell_type": "code",
      "source": [
        "plt.figure(figsize=(15,15))\n",
        "\n",
        "plt.plot(y_train, label = 'actual')\n",
        "plt.plot(train_predict,   label = 'predicted')\n",
        "plt.legend()\n",
        "plt.show()"
      ],
      "metadata": {
        "colab": {
          "base_uri": "https://localhost:8080/",
          "height": 922
        },
        "id": "guv5WvPTviB-",
        "outputId": "96883693-2fa2-475e-baa4-96f2ebf14e16"
      },
      "id": "guv5WvPTviB-",
      "execution_count": null,
      "outputs": [
        {
          "output_type": "display_data",
          "data": {
            "image/png": "[encoded data removed]",
            "text/plain": [
              "<Figure size 1080x1080 with 1 Axes>"
            ]
          },
          "metadata": {}
        }
      ]
    },
    {
      "cell_type": "code",
      "source": [
        "len(test_data)"
      ],
      "metadata": {
        "colab": {
          "base_uri": "https://localhost:8080/"
        },
        "id": "Frlk5-gY2Gmx",
        "outputId": "823cbfd8-5414-4682-ee93-35e5af14a590"
      },
      "id": "Frlk5-gY2Gmx",
      "execution_count": null,
      "outputs": [
        {
          "output_type": "execute_result",
          "data": {
            "text/plain": [
              "1128"
            ]
          },
          "metadata": {},
          "execution_count": 1043
        }
      ]
    },
    {
      "cell_type": "code",
      "source": [
        "fut_inp = test_data[1028:]"
      ],
      "metadata": {
        "id": "HUN7c1J5BYA6"
      },
      "id": "HUN7c1J5BYA6",
      "execution_count": null,
      "outputs": []
    },
    {
      "cell_type": "code",
      "source": [
        "fut_inp = fut_inp.reshape(1, -1)"
      ],
      "metadata": {
        "id": "we35PL51Aamk"
      },
      "id": "we35PL51Aamk",
      "execution_count": null,
      "outputs": []
    },
    {
      "cell_type": "code",
      "source": [
        "tmp_inp = list(fut_inp)"
      ],
      "metadata": {
        "id": "cVSF5GCvAyj4"
      },
      "id": "cVSF5GCvAyj4",
      "execution_count": null,
      "outputs": []
    },
    {
      "cell_type": "code",
      "source": [
        "fut_inp.shape"
      ],
      "metadata": {
        "colab": {
          "base_uri": "https://localhost:8080/"
        },
        "id": "ufsZ5QJMA32b",
        "outputId": "9078a4f3-7a92-4f54-c37f-dcda91f9f647"
      },
      "id": "ufsZ5QJMA32b",
      "execution_count": null,
      "outputs": [
        {
          "output_type": "execute_result",
          "data": {
            "text/plain": [
              "(1, 100)"
            ]
          },
          "metadata": {},
          "execution_count": 1047
        }
      ]
    },
    {
      "cell_type": "code",
      "source": [
        "tmp_inp = tmp_inp[0].tolist()\n"
      ],
      "metadata": {
        "id": "WG9H-CHOA6Kk"
      },
      "id": "WG9H-CHOA6Kk",
      "execution_count": null,
      "outputs": []
    },
    {
      "cell_type": "code",
      "source": [
        "lst_output=[]\n",
        "n_steps=100\n",
        "i=0\n",
        "while(i<100):\n",
        "    \n",
        "    if(len(tmp_inp)>100):\n",
        "        fut_inp = np.array(tmp_inp[1:])\n",
        "        fut_inp=fut_inp.reshape(1,-1)\n",
        "        fut_inp = fut_inp.reshape((1, n_steps, 1))\n",
        "        yhat = model.predict(fut_inp, verbose=0)\n",
        "        tmp_inp.extend(yhat[0].tolist())\n",
        "        tmp_inp = tmp_inp[1:]\n",
        "        lst_output.extend(yhat.tolist())\n",
        "        i=i+1\n",
        "    else:\n",
        "        fut_inp = fut_inp.reshape((1, n_steps,1))\n",
        "        yhat = model.predict(fut_inp, verbose=0)\n",
        "        tmp_inp.extend(yhat[0].tolist())\n",
        "        lst_output.extend(yhat.tolist())\n",
        "        i=i+1\n",
        "    \n",
        "\n",
        "print(lst_output)"
      ],
      "metadata": {
        "colab": {
          "base_uri": "https://localhost:8080/"
        },
        "id": "9OAgNwqoCW_-",
        "outputId": "4150399e-d5b2-4b97-e95a-0baee33b393f"
      },
      "id": "9OAgNwqoCW_-",
      "execution_count": null,
      "outputs": [
        {
          "output_type": "stream",
          "name": "stdout",
          "text": [
            "[[0.8129231929779053], [0.8119515776634216], [0.8109962940216064], [0.8100565671920776], [0.8091326355934143], [0.8082239031791687], [0.8073299527168274], [0.8064510226249695], [0.8055864572525024], [0.8047361373901367], [0.8038995862007141], [0.8030770421028137], [0.8022679686546326], [0.8014717698097229], [0.8006889224052429], [0.7999182939529419], [0.7991605997085571], [0.7984150052070618], [0.7976813912391663], [0.796959400177002], [0.7962492108345032], [0.7955499887466431], [0.7948623895645142], [0.7941852807998657], [0.7935190200805664], [0.7928631901741028], [0.7922175526618958], [0.7915824055671692], [0.790956974029541], [0.7903413772583008], [0.7897352576255798], [0.7891383767127991], [0.7885507941246033], [0.7879725098609924], [0.7874029874801636], [0.7868425250053406], [0.7862900495529175], [0.7857463359832764], [0.7852108478546143], [0.7846837639808655], [0.7841643691062927], [0.7836531400680542], [0.7831493616104126], [0.7826533913612366], [0.7821648120880127], [0.7816835045814514], [0.7812095880508423], [0.7807428240776062], [0.7802826762199402], [0.7798295021057129], [0.7793832421302795], [0.7789435982704163], [0.7785104513168335], [0.7780836224555969], [0.777662992477417], [0.7772489786148071], [0.7768406867980957], [0.7764385342597961], [0.7760421633720398], [0.7756515741348267], [0.7752670645713806], [0.7748876214027405], [0.7745140194892883], [0.7741457223892212], [0.7737828493118286], [0.7734254598617554], [0.7730728983879089], [0.772725522518158], [0.7723831534385681], [0.772045910358429], [0.7717133164405823], [0.771385669708252], [0.771062433719635], [0.7707440853118896], [0.7704300880432129], [0.7701206803321838], [0.7698158621788025], [0.7695149779319763], [0.7692188620567322], [0.7689266800880432], [0.7686386704444885], [0.7683547139167786], [0.7680747509002686], [0.767798662185669], [0.7675268054008484], [0.7672584652900696], [0.7669942378997803], [0.7667334079742432], [0.7664763927459717], [0.7662228345870972], [0.7659730315208435], [0.765726625919342], [0.7654836177825928], [0.7652440667152405], [0.7650079131126404], [0.7647749185562134], [0.7645453810691833], [0.7643187642097473], [0.7640954256057739], [0.7638752460479736]]\n"
          ]
        }
      ]
    },
    {
      "cell_type": "code",
      "source": [
        "ds_new= np.array(ytest)\n",
        "lst_output = np.array(lst_output)"
      ],
      "metadata": {
        "id": "D6PtvxFcPn6v"
      },
      "id": "D6PtvxFcPn6v",
      "execution_count": null,
      "outputs": []
    },
    {
      "cell_type": "code",
      "source": [
        "len(ds_new)"
      ],
      "metadata": {
        "colab": {
          "base_uri": "https://localhost:8080/"
        },
        "id": "iAtyajDdL5F5",
        "outputId": "fd0c7ad6-68ce-44c7-b444-4148f5dafa9d"
      },
      "id": "iAtyajDdL5F5",
      "execution_count": null,
      "outputs": [
        {
          "output_type": "execute_result",
          "data": {
            "text/plain": [
              "1027"
            ]
          },
          "metadata": {},
          "execution_count": 1120
        }
      ]
    },
    {
      "cell_type": "code",
      "source": [
        "lst_output = lst_output.reshape(1,-1)"
      ],
      "metadata": {
        "id": "9Xx9h_A1TGb8"
      },
      "id": "9Xx9h_A1TGb8",
      "execution_count": null,
      "outputs": []
    },
    {
      "cell_type": "code",
      "source": [
        "ytest"
      ],
      "metadata": {
        "colab": {
          "base_uri": "https://localhost:8080/"
        },
        "id": "fBJEgr5WS5vi",
        "outputId": "46a42b26-0e00-4084-eec6-367d83892c93"
      },
      "id": "fBJEgr5WS5vi",
      "execution_count": null,
      "outputs": [
        {
          "output_type": "execute_result",
          "data": {
            "text/plain": [
              "array([0.90882159, 0.90912907, 0.9138383 , ..., 0.86269475, 0.86549831,\n",
              "       0.85925013])"
            ]
          },
          "metadata": {},
          "execution_count": 1122
        }
      ]
    },
    {
      "cell_type": "code",
      "source": [
        "lst_output = lst_output.flatten()"
      ],
      "metadata": {
        "id": "NCfj1F-bS9dy"
      },
      "id": "NCfj1F-bS9dy",
      "execution_count": null,
      "outputs": []
    },
    {
      "cell_type": "code",
      "source": [
        "lst_output"
      ],
      "metadata": {
        "colab": {
          "base_uri": "https://localhost:8080/"
        },
        "id": "hGABuTOETDpJ",
        "outputId": "105b3634-e38e-4207-fca8-61300956a16d"
      },
      "id": "hGABuTOETDpJ",
      "execution_count": null,
      "outputs": [
        {
          "output_type": "execute_result",
          "data": {
            "text/plain": [
              "array([0.81292319, 0.81195158, 0.81099629, 0.81005657, 0.80913264,\n",
              "       0.8082239 , 0.80732995, 0.80645102, 0.80558646, 0.80473614,\n",
              "       0.80389959, 0.80307704, 0.80226797, 0.80147177, 0.80068892,\n",
              "       0.79991829, 0.7991606 , 0.79841501, 0.79768139, 0.7969594 ,\n",
              "       0.79624921, 0.79554999, 0.79486239, 0.79418528, 0.79351902,\n",
              "       0.79286319, 0.79221755, 0.79158241, 0.79095697, 0.79034138,\n",
              "       0.78973526, 0.78913838, 0.78855079, 0.78797251, 0.78740299,\n",
              "       0.78684253, 0.78629005, 0.78574634, 0.78521085, 0.78468376,\n",
              "       0.78416437, 0.78365314, 0.78314936, 0.78265339, 0.78216481,\n",
              "       0.7816835 , 0.78120959, 0.78074282, 0.78028268, 0.7798295 ,\n",
              "       0.77938324, 0.7789436 , 0.77851045, 0.77808362, 0.77766299,\n",
              "       0.77724898, 0.77684069, 0.77643853, 0.77604216, 0.77565157,\n",
              "       0.77526706, 0.77488762, 0.77451402, 0.77414572, 0.77378285,\n",
              "       0.77342546, 0.7730729 , 0.77272552, 0.77238315, 0.77204591,\n",
              "       0.77171332, 0.77138567, 0.77106243, 0.77074409, 0.77043009,\n",
              "       0.77012068, 0.76981586, 0.76951498, 0.76921886, 0.76892668,\n",
              "       0.76863867, 0.76835471, 0.76807475, 0.76779866, 0.76752681,\n",
              "       0.76725847, 0.76699424, 0.76673341, 0.76647639, 0.76622283,\n",
              "       0.76597303, 0.76572663, 0.76548362, 0.76524407, 0.76500791,\n",
              "       0.76477492, 0.76454538, 0.76431876, 0.76409543, 0.76387525])"
            ]
          },
          "metadata": {},
          "execution_count": 1124
        }
      ]
    },
    {
      "cell_type": "code",
      "source": [
        "ds_new = np.concatenate((ytest,lst_output))\n"
      ],
      "metadata": {
        "id": "c3LXhmx6M7hx"
      },
      "id": "c3LXhmx6M7hx",
      "execution_count": null,
      "outputs": []
    },
    {
      "cell_type": "code",
      "source": [
        "plt.plot(ds_new[970:])\n"
      ],
      "metadata": {
        "colab": {
          "base_uri": "https://localhost:8080/",
          "height": 298
        },
        "id": "taztzTUpETpJ",
        "outputId": "e6f755d6-3a27-43b1-ffbd-72b0cf950bdc"
      },
      "id": "taztzTUpETpJ",
      "execution_count": null,
      "outputs": [
        {
          "output_type": "execute_result",
          "data": {
            "text/plain": [
              "[<matplotlib.lines.Line2D at 0x7fb21b98e110>]"
            ]
          },
          "metadata": {},
          "execution_count": 1127
        },
        {
          "output_type": "display_data",
          "data": {
            "image/png": "[encoded data removed]",
            "text/plain": [
              "<Figure size 432x288 with 1 Axes>"
            ]
          },
          "metadata": {}
        }
      ]
    },
    {
      "cell_type": "code",
      "source": [],
      "metadata": {
        "id": "a0Z_J2FaUMnX"
      },
      "id": "a0Z_J2FaUMnX",
      "execution_count": null,
      "outputs": []
    }
  ],
  "metadata": {
    "kernelspec": {
      "display_name": "Python 3",
      "language": "python",
      "name": "python3"
    },
    "language_info": {
      "codemirror_mode": {
        "name": "ipython",
        "version": 3
      },
      "file_extension": ".py",
      "mimetype": "text/x-python",
      "name": "python",
      "nbconvert_exporter": "python",
      "pygments_lexer": "ipython3",
      "version": "3.8.8"
    },
    "colab": {
      "provenance": [],
      "collapsed_sections": []
    }
  },
  "nbformat": 4,
  "nbformat_minor": 5
}